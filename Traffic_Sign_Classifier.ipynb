{
 "cells": [
  {
   "cell_type": "markdown",
   "metadata": {},
   "source": [
    "# Self-Driving Car Engineer Nanodegree\n",
    "\n",
    "## Deep Learning\n",
    "\n",
    "## Project: Build a Traffic Sign Recognition Classifier\n",
    "\n",
    "In this notebook, a template is provided for you to implement your functionality in stages, which is required to successfully complete this project. If additional code is required that cannot be included in the notebook, be sure that the Python code is successfully imported and included in your submission if necessary. \n",
    "\n",
    "> **Note**: Once you have completed all of the code implementations, you need to finalize your work by exporting the iPython Notebook as an HTML document. Before exporting the notebook to html, all of the code cells need to have been run so that reviewers can see the final implementation and output. You can then export the notebook by using the menu above and navigating to  \\n\",\n",
    "    \"**File -> Download as -> HTML (.html)**. Include the finished document along with this notebook as your submission. \n",
    "\n",
    "In addition to implementing code, there is a writeup to complete. The writeup should be completed in a separate file, which can be either a markdown file or a pdf document. There is a [write up template](https://github.com/udacity/CarND-Traffic-Sign-Classifier-Project/blob/master/writeup_template.md) that can be used to guide the writing process. Completing the code template and writeup template will cover all of the [rubric points](https://review.udacity.com/#!/rubrics/481/view) for this project.\n",
    "\n",
    "The [rubric](https://review.udacity.com/#!/rubrics/481/view) contains \"Stand Out Suggestions\" for enhancing the project beyond the minimum requirements. The stand out suggestions are optional. If you decide to pursue the \"stand out suggestions\", you can include the code in this Ipython notebook and also discuss the results in the writeup file.\n",
    "\n",
    "\n",
    ">**Note:** Code and Markdown cells can be executed using the **Shift + Enter** keyboard shortcut. In addition, Markdown cells can be edited by typically double-clicking the cell to enter edit mode."
   ]
  },
  {
   "cell_type": "markdown",
   "metadata": {},
   "source": [
    "---\n",
    "## Step 0: Load The Data"
   ]
  },
  {
   "cell_type": "code",
   "execution_count": 97,
   "metadata": {},
   "outputs": [],
   "source": [
    "# Load pickled data\n",
    "import pickle\n",
    "\n",
    "\n",
    "training_file = \"data/train.p\"\n",
    "validation_file= \"data/valid.p\"\n",
    "testing_file = \"data/test.p\"\n",
    "\n",
    "with open(training_file, mode='rb') as f:\n",
    "    train = pickle.load(f)\n",
    "with open(validation_file, mode='rb') as f:\n",
    "    valid = pickle.load(f)\n",
    "with open(testing_file, mode='rb') as f:\n",
    "    test = pickle.load(f)\n",
    "    \n",
    "X_train, y_train = train['features'], train['labels']\n",
    "X_valid, y_valid = valid['features'], valid['labels']\n",
    "X_test, y_test = test['features'], test['labels']"
   ]
  },
  {
   "cell_type": "markdown",
   "metadata": {},
   "source": [
    "---\n",
    "\n",
    "## Step 1: Dataset Summary & Exploration\n",
    "\n",
    "The pickled data is a dictionary with 4 key/value pairs:\n",
    "\n",
    "- `'features'` is a 4D array containing raw pixel data of the traffic sign images, (num examples, width, height, channels).\n",
    "- `'labels'` is a 1D array containing the label/class id of the traffic sign. The file `signnames.csv` contains id -> name mappings for each id.\n",
    "- `'sizes'` is a list containing tuples, (width, height) representing the original width and height the image.\n",
    "- `'coords'` is a list containing tuples, (x1, y1, x2, y2) representing coordinates of a bounding box around the sign in the image. **THESE COORDINATES ASSUME THE ORIGINAL IMAGE. THE PICKLED DATA CONTAINS RESIZED VERSIONS (32 by 32) OF THESE IMAGES**\n",
    "\n",
    "Complete the basic data summary below. Use python, numpy and/or pandas methods to calculate the data summary rather than hard coding the results. For example, the [pandas shape method](http://pandas.pydata.org/pandas-docs/stable/generated/pandas.DataFrame.shape.html) might be useful for calculating some of the summary results. "
   ]
  },
  {
   "cell_type": "markdown",
   "metadata": {},
   "source": [
    "### Provide a Basic Summary of the Data Set Using Python, Numpy and/or Pandas"
   ]
  },
  {
   "cell_type": "code",
   "execution_count": 91,
   "metadata": {},
   "outputs": [
    {
     "name": "stdout",
     "output_type": "stream",
     "text": [
      "Number of training examples = 34799\n",
      "Number of validation examples = 4410\n",
      "Number of testing examples = 12630\n",
      "Image data shape = (32, 32, 3)\n",
      "Number of classes = 42\n"
     ]
    }
   ],
   "source": [
    "### Replace each question mark with the appropriate value. \n",
    "### Use python, pandas or numpy methods rather than hard coding the results\n",
    "\n",
    "# TODO: Number of training examples\n",
    "n_train = X_train.shape[0]\n",
    "\n",
    "# TODO: Number of validation examples\n",
    "n_validation = X_valid.shape[0]\n",
    "\n",
    "# TODO: Number of testing examples.\n",
    "n_test = X_test.shape[0]\n",
    "\n",
    "# TODO: What's the shape of an traffic sign image?\n",
    "image_shape = X_test[0].shape\n",
    "\n",
    "# TODO: How many unique classes/labels there are in the dataset.\n",
    "n_classes = max(y_train)\n",
    "\n",
    "print(\"Number of training examples =\", n_train)\n",
    "print(\"Number of validation examples =\", n_validation)\n",
    "print(\"Number of testing examples =\", n_test)\n",
    "print(\"Image data shape =\", image_shape)\n",
    "print(\"Number of classes =\", n_classes)"
   ]
  },
  {
   "cell_type": "markdown",
   "metadata": {},
   "source": [
    "### Include an exploratory visualization of the dataset"
   ]
  },
  {
   "cell_type": "markdown",
   "metadata": {},
   "source": [
    "Visualize the German Traffic Signs Dataset using the pickled file(s). This is open ended, suggestions include: plotting traffic sign images, plotting the count of each sign, etc. \n",
    "\n",
    "The [Matplotlib](http://matplotlib.org/) [examples](http://matplotlib.org/examples/index.html) and [gallery](http://matplotlib.org/gallery.html) pages are a great resource for doing visualizations in Python.\n",
    "\n",
    "**NOTE:** It's recommended you start with something simple first. If you wish to do more, come back to it after you've completed the rest of the sections. It can be interesting to look at the distribution of classes in the training, validation and test set. Is the distribution the same? Are there more examples of some classes than others?"
   ]
  },
  {
   "cell_type": "code",
   "execution_count": 98,
   "metadata": {},
   "outputs": [
    {
     "data": {
      "image/png": "iVBORw0KGgoAAAANSUhEUgAAAYsAAAEWCAYAAACXGLsWAAAABHNCSVQICAgIfAhkiAAAAAlwSFlzAAALEgAACxIB0t1+/AAAADh0RVh0U29mdHdhcmUAbWF0cGxvdGxpYiB2ZXJzaW9uMy4yLjEsIGh0dHA6Ly9tYXRwbG90bGliLm9yZy+j8jraAAAboElEQVR4nO3de5hddX3v8ffHyE0BDTJwQhJM1OgReCQ8jBTvKFbiDdCnaGgVLNQohR49RS3Qp0eONpae4+2gNRqVA1gKRpESJV4QUWoLxAkiEC7HIJEMickIpQTF2ITP+WP9RpbDnlmTMPsymc/refaz1/6u23fWTvZ3/36/tdeSbSIiIsbypG4nEBERvS/FIiIiGqVYREREoxSLiIholGIRERGNUiwiIqJRikX0FEnfl/RnnVxX0pskrZP0sKTDdmTf7SDps5L+ptt5RECKRbSJpLWSXt3tPMbpo8AZtve0/eMnsiFJq0vReVjSNkm/qb0+Z3u2Zfvdtj+8g3l8v+x7s6SHJK2SdJak3bZjG5b0nB3Z//bo1H7iiUmxiIBnAqt3ZEVJ0+qvbR9cis6ewL/wWBHa0/ZHaus9+QllPD5n2N4LmAGcCSwEVkhSB/YdO5kUi+goSdMlfUPSkKR/L9OzRiz2bEkrJf2HpCsl7VNb/0hJ/ybpQUk/kXTUKPt5jqQflG38UtKXWyyzm6SHgWnATyTdXeLPL9/MHywthWNr61woaYmkFZJ+BbxynH/3nPIN+lRJ9wLfK/GvSPpFyfM6SQeP2NfflumjJA1KOlPSJkkbJP3pePZt+1e2vw8cC7wIeH3Z5hGSri9/5wZJn5a0a5l3XVn9J6VV9Nam907SOyT9rLRm7pH0J7V5p0i6o6z3bUnPHG0/4/mbovNSLKLTngT8X6pv8wcCjwCfHrHMScApwAHAVuB8AEkzgauAvwX2Ad4HXC6pr8V+Pgx8B5gOzAI+NXIB21tKCwDgUNvPlrQL8PWy7n7AXwCXSHpebdU/BhYDewE/3J4/HngF8HzgmPL6m8C8sq+bgEvGWPe/AE8DZgKnAv8gafp4d2z7XmAAeFkJbQP+O7AvVRE5GvjzsuzLyzKHllbRlxnjvZP0VKr36bWlNfNi4OYy73jgHODNQB9Vi+vSMfYTPSjFIjrK9v22L7f9a9ubqT50XzFisS/Zvs32r4C/Ad5SunveBqywvcL2o7avpvrwe12LXf0n1YfaAbZ/Y3u8H+pHAnsC59n+re3vAd8ATqwtc6Xtfy05/Ga8f3txbvmm/wiA7Qtsb7a9BTgXOFTS00ZZ9z+BD9n+T9srgIeB542y7GjWUxVabK+yfYPtrbbXAp/j8e/F74zjvXsUOETSHrY32B7u2nsX8He277C9FfgIMH+4dRGTQ4pFdJSkp0j6nKSfS3oIuA54+oi+/3W16Z8Du1B9+30mcELpNnlQ0oPAS6n65Ef6ACBgZelKOmWcKR4ArLP96IgcZo6S3/b63bqSpkk6T9Ld5VisLbP2HWXd+8uH7bBfUxW27TETeKDs/7mlK+kXZf8fGWPfY753pbC/FXg3sEHSVZL+a1n1mcD/qb1nD1C9NzNb7Sd6U4pFdNqZVN+G/8D23sBwN0R90HV2bfpAqm/Uv6T6oP2S7afXHk+1fd7Indj+he132j6A6pvtZ8Z5xs16YLak+v+NA4H76psfx3ZGU1/3j4HjgFdTdS/NKfG2DEBLmg0cTtUNBLAEuBOYV96Lcxr2PeZ7Z/vbtv+QqnjfCXy+zF8HvGvE+7aH7X+bwD8v2izFItppF0m71x5PpurnfwR4sAxcf7DFem+TdJCkpwAfAr5qexvwj8AbJR1TvpXvXgZ+Rw6QI+mEWvzfqT6kt40j5xuBXwEfkLRLGUB/I3DZ9v3p47IXsAW4H3gK1Tf7CVdaBK8ArgRWAitq+38IeLi0Ak4bsepG4Fkj8m353knaX9KxZexiC1UX2fDx/ixw9vDgvaSnSTphjP1ED0qxiHZaQfXhMvw4F/gksAdVS+EG4Fst1vsScCHwC2B34L8B2F5H9U38HGCI6hvr+2n97/iFwI3lbKflwHts39OUsO3fUp019NqS42eAk2zfOY6/d3tdTNXFdR9wO9XxmEiflrSZ6sP4k8DlwIJaF9v7qFo3m6laASMHl88FLirdR29h7PfuSVQtj/VU3Uyv4LHB8iuAvwcuK91Xt1Ed39H2Ez1IuflRREQ0ScsiIiIapVhERESjFIuIiGiUYhEREY06cTGzrth33309Z86cbqcRETGprFq16pe2H3cJnZ22WMyZM4eBgYFupxERMalI+nmreLqhIiKiUYpFREQ0SrGIiIhGKRYREdEoxSIiIhqlWERERKMUi4iIaNS2YiFptqRry03aV0t6T4nvI+lqST8tz9Nr65wtaY2kuyQdU4sfLunWMu98SW25OUxERLTWzpbFVuBM28+nuq/x6ZIOAs4CrrE9D7imvKbMWwgcDCygurPZ8K02lwCLqG5sP6/Mj4iIDmnbL7htbwA2lOnNku6guufuccBRZbGLgO8Df1Xil5Ub198jaQ1whKS1wN62rweQdDFwPPDNduW+o+acdVXL+NrzXt/hTCIiJlZHxiwkzQEOo7pl5f6lkAwXlP3KYjOp3cweGCyxmWV6ZLzVfhZJGpA0MDQ0NJF/QkTElNb2YiFpT6rbOb7X9kNjLdoi5jHijw/aS2332+7v63vcdbAiImIHtfVCgpJ2oSoUl9j+WglvlDTD9gZJM4BNJT4IzK6tPovqfr6DZXpkvCvS1RQRU1E7z4YS8EXgDtsfr81aDpxcpk8GrqzFF0raTdJcqoHslaWrarOkI8s2T6qtExERHdDOlsVLgLcDt0q6ucTOAc4Dlkk6FbgXOAHA9mpJy4Dbqc6kOt32trLeacCFwB5UA9s9N7gdEbEza+fZUD+k9XgDwNGjrLMYWNwiPgAcMnHZRUTE9sgvuCMiolGKRURENNppb6sak0fOMIvofWlZREREoxSLiIholG6o6Ih0NUVMbmlZREREoxSLiIholG6oiIgJsLN3taZlERERjVIsIiKiUYpFREQ0SrGIiIhGKRYREdEoZ0PFdtnZz/iIiNbSsoiIiEbtvK3qBZI2SbqtFvuypJvLY+3wHfQkzZH0SG3eZ2vrHC7pVklrJJ1fbq0aEREd1M5uqAuBTwMXDwdsv3V4WtLHgP+oLX+37fkttrMEWATcAKwAFrCT3VY1XTsR0eva1rKwfR3wQKt5pXXwFuDSsbYhaQawt+3rbZuq8Bw/0blGRMTYujVm8TJgo+2f1mJzJf1Y0g8kvazEZgKDtWUGSywiIjqoW2dDncjvtyo2AAfavl/S4cA/SzoYaDU+4dE2KmkRVZcVBx544ASmGxExtXW8ZSHpycCbgS8Px2xvsX1/mV4F3A08l6olMau2+ixg/Wjbtr3Udr/t/r6+vnakHxExJXWjG+rVwJ22f9e9JKlP0rQy/SxgHvAz2xuAzZKOLOMcJwFXdiHniIgprZ2nzl4KXA88T9KgpFPLrIU8fmD75cAtkn4CfBV4t+3hwfHTgC8Aa6haHDvVmVAREZNB28YsbJ84SvwdLWKXA5ePsvwAcMiEJhcREdslv+COiIhGKRYREdEoxSIiIhqlWERERKMUi4iIaJT7WfS4XGQwInpBWhYREdEoxSIiIhqlWERERKMUi4iIaJRiERERjVIsIiKiUYpFREQ0SrGIiIhGKRYREdEoxSIiIhqlWERERKN23lb1AkmbJN1Wi50r6T5JN5fH62rzzpa0RtJdko6pxQ+XdGuZd365F3dERHRQO1sWFwILWsQ/YXt+eawAkHQQ1b25Dy7rfEbStLL8EmARMK88Wm0zIiLaqG3FwvZ1wAPjXPw44DLbW2zfA6wBjpA0A9jb9vW2DVwMHN+ejCMiYjTdGLM4Q9ItpZtqeonNBNbVlhkssZllemS8JUmLJA1IGhgaGprovCMipqxOF4slwLOB+cAG4GMl3mocwmPEW7K91Ha/7f6+vr4nmmtERBQdLRa2N9reZvtR4PPAEWXWIDC7tugsYH2Jz2oRj4iIDuposShjEMPeBAyfKbUcWChpN0lzqQayV9reAGyWdGQ5C+ok4MpO5hwREW28raqkS4GjgH0lDQIfBI6SNJ+qK2kt8C4A26slLQNuB7YCp9veVjZ1GtWZVXsA3yyPiIjooLYVC9sntgh/cYzlFwOLW8QHgEMmMLWIiNhO+QV3REQ0SrGIiIhGKRYREdEoxSIiIhqlWERERKMUi4iIaJRiERERjVIsIiKiUYpFREQ0SrGIiIhGbbvcR0R015yzrnpcbO15r+9CJrEzSMsiIiIapVhERESjdEPF47TqvoB0YURMZWlZREREoxSLiIholG6onVjOhomIidK2loWkCyRtknRbLfa/Jd0p6RZJV0h6eonPkfSIpJvL47O1dQ6XdKukNZLOL/fijoiIDmpnN9SFwIIRsauBQ2y/APh/wNm1eXfbnl8e767FlwCLgHnlMXKbERHRZu28B/d1kuaMiH2n9vIG4I/G2oakGcDetq8vry8Gjge+OaHJdkCvnWGULqqI2B7dHOA+hd//0J8r6ceSfiDpZSU2ExisLTNYYi1JWiRpQNLA0NDQxGccETFFdaVYSPprYCtwSQltAA60fRjwl8A/SdobaDU+4dG2a3up7X7b/X19fROddkTElNXxs6EknQy8ATjatgFsbwG2lOlVku4GnkvVkphVW30WsL6zGUdEREdbFpIWAH8FHGv717V4n6RpZfpZVAPZP7O9Adgs6chyFtRJwJWdzDkiItrYspB0KXAUsK+kQeCDVGc/7QZcXc6AvaGc+fRy4EOStgLbgHfbfqBs6jSqM6v2oBrjmHSD2xERk107z4Y6sUX4i6Msezlw+SjzBoBDJjC1iIjYTrncR0RENEqxiIiIRuPqhpL0Etv/2hSLqa3XfngYERNnvC2LT40zFhERO6ExWxaSXgS8GOiT9Je1WXsD09qZWERE9I6mbqhdgT3LcnvV4g/RcF2niIjYeYxZLGz/APiBpAtt/7xDOUVERI8Z7+8sdpO0FJhTX8f2q9qRVERE9JbxFouvAJ8FvkD1C+uIiJhCxlssttpe0tZMIiKiZ4331NmvS/pzSTMk7TP8aGtmERHRM8bbsji5PL+/FjPwrIlNJyIietG4ioXtue1OJKJX5JfoO7+8x9tvvJf7OKlV3PbFE5tORET0ovF2Q72wNr07cDRwE5BiERExBYy3G+ov6q8lPQ34UlsyioiInrOjlyj/NdWtTyMiYgoYV7GQ9HVJy8vjKuAuGu6FLekCSZsk3VaL7SPpakk/Lc/Ta/POlrRG0l2SjqnFD5d0a5l3frkXd0REdNB4WxYfBT5WHh8BXm77rIZ1LgQWjIidBVxjex5wTXmNpIOAhcDBZZ3PSBq+qu0SYBFVS2Zei21GRESbjatYlAsK3kl15dnpwG/Hsc51wAMjwscBF5Xpi4Dja/HLbG+xfQ+wBjhC0gxgb9vX2zbVgPrxRERER423G+otwErgBOAtwI2SduQS5fvb3gBQnvcr8ZnAutpygyU2s0yPjI+W5yJJA5IGhoaGdiC9iIhoZbynzv418ELbmwAk9QHfBb46QXm0GofwGPGWbC8FlgL09/ePulxEqx9l5QdZEaMb75jFk4YLRXH/dqxbt7F0LVGeh7c5CMyuLTcLWF/is1rEIyKig8b7gf8tSd+W9A5J7wCuAlbswP6W89h1pk7msTOqlgMLJe0maS7VQPbK0lW1WdKR5Syok2g4CysiIiZe0z24n0M1zvB+SW8GXkrVNXQ9cEnDupcCRwH7ShoEPgicByyTdCpwL9UYCLZXS1oG3A5sBU63PXzfjNOozqzaA/hmeURERAc1jVl8EjgHwPbXgK8BSOov89442oq2Txxl1tGjLL8YWNwiPgAc0pBnRES0UVM31Bzbt4wMlg/wOW3JKCIiek5Tsdh9jHl7TGQiERHRu5qKxY8kvXNksIw5rGpPShER0WuaxizeC1wh6U94rDj0A7sCb2pnYhER0TvGLBa2NwIvlvRKHhtkvsr299qeWURE9Izx3s/iWuDaNucSERE9akfvZxEREVNIikVERDRKsYiIiEYpFhER0SjFIiIiGqVYREREoxSLiIholGIRERGNUiwiIqJRikVERDTqeLGQ9DxJN9ceD0l6r6RzJd1Xi7+uts7ZktZIukvSMZ3OOSJiqhvXtaEmku27gPkAkqYB9wFXAH8KfML2R+vLSzoIWAgcDBwAfFfSc2u3XY2IiDbrdjfU0cDdtn8+xjLHAZfZ3mL7HmANcERHsouICKD7xWIhcGnt9RmSbpF0gaTpJTYTWFdbZrDEIiKiQ7pWLCTtChwLfKWElgDPpuqi2gB8bHjRFqt7lG0ukjQgaWBoaGiCM46ImLq62bJ4LXBTucEStjfa3mb7UeDzPNbVNAjMrq03C1jfaoO2l9rut93f19fXxtQjIqaWbhaLE6l1QUmaUZv3JuC2Mr0cWChpN0lzgXnAyo5lGRERnT8bCkDSU4A/BN5VC/8vSfOpupjWDs+zvVrSMuB2YCtwes6EiojorK4UC9u/Bp4xIvb2MZZfDCxud14REdFat8+GioiISaArLYuI8Zpz1lUt42vPe32HM4l2yXs8OaRlERERjVIsIiKiUYpFREQ0SrGIiIhGKRYREdEoxSIiIhqlWERERKMUi4iIaJQf5UXEpNXqB335MV97pGURERGNUiwiIqJRikVERDRKsYiIiEYpFhER0ShnQ8WklrNhdkwuCx7bqystC0lrJd0q6WZJAyW2j6SrJf20PE+vLX+2pDWS7pJ0TDdyjoiYyrrZDfVK2/Nt95fXZwHX2J4HXFNeI+kgYCFwMLAA+Iykad1IOCJiquqlMYvjgIvK9EXA8bX4Zba32L4HWAMc0YX8IiKmrG4VCwPfkbRK0qIS29/2BoDyvF+JzwTW1dYdLLHHkbRI0oCkgaGhoTalHhEx9XRrgPslttdL2g+4WtKdYyyrFjG3WtD2UmApQH9/f8tlIiJi+3WlWNheX543SbqCqltpo6QZtjdImgFsKosPArNrq88C1nc04YgAchbVVNbxbihJT5W01/A08BrgNmA5cHJZ7GTgyjK9HFgoaTdJc4F5wMrOZh0RMbV1o2WxP3CFpOH9/5Ptb0n6EbBM0qnAvcAJALZXS1oG3A5sBU63va0LeUdETFkdLxa2fwYc2iJ+P3D0KOssBha3ObWInpNun+gVvXTqbERE9KgUi4iIaJRiERERjVIsIiKiUYpFREQ0SrGIiIhGuZ9FRLRdTgGe/NKyiIiIRikWERHRKN1Qk1xuKzq6HJupLe//xErLIiIiGqVYREREo3RDRXRZzhTqLXk/WkvLIiIiGqVYREREo3RDRUyQdF/Ejpgs/27SsoiIiEbduAf3bEnXSrpD0mpJ7ynxcyXdJ+nm8nhdbZ2zJa2RdJekYzqdc0TEVNeNbqitwJm2b5K0F7BK0tVl3idsf7S+sKSDgIXAwcABwHclPTf34Y7JZLJ0NUR77Azvf8dbFrY32L6pTG8G7gBmjrHKccBltrfYvgdYAxzR/kwjImJYV8csJM0BDgNuLKEzJN0i6QJJ00tsJrCuttogoxQXSYskDUgaGBoaalPWERFTT9fOhpK0J3A58F7bD0laAnwYcHn+GHAKoBaru9U2bS8FlgL09/e3XCZiZ9JL1z/aGbpaYnRdaVlI2oWqUFxi+2sAtjfa3mb7UeDzPNbVNAjMrq0+C1jfyXwjIqa6bpwNJeCLwB22P16Lz6gt9ibgtjK9HFgoaTdJc4F5wMpO5RsREd3phnoJ8HbgVkk3l9g5wImS5lN1Ma0F3gVge7WkZcDtVGdSnZ4zoSLap5e6k3opl25o+vs72Q3Z8WJh+4e0HodYMcY6i4HFbUsqIiLGlF9wR0REo1wbqoWp3vSN0eXfxtQ2ld//tCwiIqJRikVERDRKsYiIiEYpFhER0SjFIiIiGqVYREREoxSLiIholGIRERGNUiwiIqJRikVERDRKsYiIiEYpFhER0SjFIiIiGqVYREREoxSLiIhoNGmKhaQFku6StEbSWd3OJyJiKpkUxULSNOAfgNcCB1Hdr/ug7mYVETF1TIpiARwBrLH9M9u/BS4DjutyThERU4ZsdzuHRpL+CFhg+8/K67cDf2D7jBHLLQIWlZfPA+6agN3vC/xyArazM8qxGV2OzehybEbXC8fmmbb7RgYnyz241SL2uCpneymwdEJ3LA3Y7p/Ibe4scmxGl2Mzuhyb0fXysZks3VCDwOza61nA+i7lEhEx5UyWYvEjYJ6kuZJ2BRYCy7ucU0TElDEpuqFsb5V0BvBtYBpwge3VHdr9hHZr7WRybEaXYzO6HJvR9eyxmRQD3BER0V2TpRsqIiK6KMUiIiIapViMIpcX+X2SLpC0SdJttdg+kq6W9NPyPL2bOXaDpNmSrpV0h6TVkt5T4jk20u6SVkr6STk2/7PEp/yxGSZpmqQfS/pGed2zxybFooVcXqSlC4EFI2JnAdfYngdcU15PNVuBM20/HzgSOL38W8mxgS3Aq2wfCswHFkg6khybuvcAd9Re9+yxSbFoLZcXGcH2dcADI8LHAReV6YuA4zuaVA+wvcH2TWV6M9V//Jnk2ODKw+XlLuVhcmwAkDQLeD3whVq4Z49NikVrM4F1tdeDJRa/b3/bG6D60AT263I+XSVpDnAYcCM5NsDvulluBjYBV9vOsXnMJ4EPAI/WYj17bFIsWhvX5UUihknaE7gceK/th7qdT6+wvc32fKqrLhwh6ZBu59QLJL0B2GR7VbdzGa8Ui9ZyeZHx2ShpBkB53tTlfLpC0i5UheIS218r4RybGtsPAt+nGvfKsYGXAMdKWkvVzf0qSf9IDx+bFIvWcnmR8VkOnFymTwau7GIuXSFJwBeBO2x/vDYrx0bqk/T0Mr0H8GrgTnJssH227Vm251B9vnzP9tvo4WOTX3CPQtLrqPoUhy8vsrjLKXWVpEuBo6guobwR+CDwz8Ay4EDgXuAE2yMHwXdqkl4K/AtwK4/1PZ9DNW4x1Y/NC6gGaadRfTFdZvtDkp7BFD82dZKOAt5n+w29fGxSLCIiolG6oSIiolGKRURENEqxiIiIRikWERHRKMUiIiIapVhEPEGSHm5e6nfLnivpfe3afkS7pFhERESjFIuINpD0Rkk3lnsVfFfS/rXZh0r6XrlnwTtr67xf0o8k3TJ874eIXpFiEdEePwSOtH0Y1bV/PlCb9wKqS1O/CPgfkg6Q9BpgHtXl8ecDh0t6eYdzjhjVk7udQMROahbw5XIxuF2Be2rzrrT9CPCIpGupCsRLgdcAPy7L7ElVPK7rXMoRo0uxiGiPTwEft728XPvn3Nq8kdfYMdVl8f/O9uc6k17E9kk3VER7PA24r0yfPGLeceX+1M+gujjjj4BvA6eU+2IgaaaknrnxTURaFhFP3FMkDdZef5yqJfEVSfcBNwBza/NXAldRXVn0w7bXA+slPR+4vrrqOQ8Db6OH7mcQU1uuOhsREY3SDRUREY1SLCIiolGKRURENEqxiIiIRikWERHRKMUiIiIapVhERESj/w8rU9NVd96pJAAAAABJRU5ErkJggg==\n",
      "text/plain": [
       "<Figure size 432x288 with 1 Axes>"
      ]
     },
     "metadata": {
      "needs_background": "light"
     },
     "output_type": "display_data"
    },
    {
     "data": {
      "image/png": "iVBORw0KGgoAAAANSUhEUgAAAYUAAAEWCAYAAACJ0YulAAAABHNCSVQICAgIfAhkiAAAAAlwSFlzAAALEgAACxIB0t1+/AAAADh0RVh0U29mdHdhcmUAbWF0cGxvdGxpYiB2ZXJzaW9uMy4yLjEsIGh0dHA6Ly9tYXRwbG90bGliLm9yZy+j8jraAAAWsklEQVR4nO3dfbBkdX3n8ffH4UkFFWSgYJjxEiQWaCkmI+LDJvhQSkAdjeKiAdnViKnFLG5QajS7KyY7YSplWGvN4kqUMCKCo2hAIRoEIjFRYEBUECknYYABhBEhgDEo+N0/zpkzzZ2+c5vrnNt35r5fVbe6+3eevv279/anz0P/OlWFJEkATxh3AZKkucNQkCR1DAVJUsdQkCR1DAVJUsdQkCR1DAWNRZK/T/L7s7lskjckuT3JQ0meP5Ntby1J1iV5ZXv/A0k+Mcq8Ut8MBf1KtrEXrA8D766qXavq27/KipJ8PMmnhrQ/N8nDSfYYdV1V9WdVNdOAPDvJz5M82P7ckOS0JE99HOuYld/hNva3Mm8ZCppPngHcOJMFkyyY1HQ28LtJnjyp/W3Al6vqJzPZzgz9eVXtBiwE/jNwGPCPQ2qTpmUoqBdJdk/y5SQbktzX3t9v0mwHJLk6yb8muXDw3XWSw5L8U5L7k3wnyeFTbOeZSb7eruPHST47ZJ6dkzwELAC+k+Sf2/aD2kNR9ye5McnrBpY5O8nHklyS5KfAywbXWVXfBO4A3jiwzALgrcCqJAckuTzJvW1d5yZ52hTP4dQknx54fFySW9tl/3iKLt5MVf17VV0DvA54Ok1AsKVakpwDLAG+1B5WO6Vt/1ySH7X9emWSZw/Ud2SS77d7Jnckee/AtNckub7t039K8twtbUdzj6GgvjwB+Guad+dLgJ8BfzlpnrcBbwf2BR4B/g9AkkXAxcD/AvYA3gtckGThkO38KfB3wO7AfsBHJ89QVQ9X1a7tw+dV1QFJdgS+1C67F/CHwLlJnjWw6FuBFcBuwDeGbPtT7XPY6JXAjsDfAgFOa5/bQcBi4NQh63iMJAcDHwOOa5d9evu8RlZVDwKXAv9h42qnqqWqjgNuA17bHlb783aZvwUOpOmb64BzBzbxSeBd7d7Jc4DL29p/AzgLeFdb98eBi5LsvIXtaI4xFNSLqrq3qi6oqn9rX6RWAL89abZzquqGqvop8D+AN7fvto8FLqmqS6rql1V1KbAGOHLIpn5BEzz7tu+Uh714D3MYsCuwsqp+XlWXA18G3jIwz4VV9Y9tDf8+ZB3nAL89sAf0NuAzVfWLqlpbVZe2gbQBOH3I8x/mTTSHn66sqodp+uWXIz6nQXfSBCozqaWqzqqqB9saTgWeN3Ce4hfAwUmeUlX3VdV1bfs7gY9X1VVV9WhVrQIepulrbSMMBfUiyZPak7G3JnkAuBJ42qRj87cP3L+V5l32njQv8ke3hyDuT3I/8FJgnyGbOoXmnfDV7SGgt49Y4r7A7VU1+IJ7K7Boivo2U1W3tc/r2CS7Aq8HVgEk2SvJ+e3hlQeAT7fPbaS6BrbxU+DeEZabbBHwk5nUkmRBkpVJ/rmdf107aeMyb6QJ6FvbQ3cvatufAZw86fe2uH1O2kYYCurLycCzgBdW1VOA32rbMzDP4oH7S2jegf6Y5kXxnKp62sDPk6tq5eSNVNWPquqdVbUvzWGLM5I8c4T67gQWJxn8H1hCc56gW/0I61lFs4fwRuCWgXfNp7XLP7d9/sfy2Oc+lbsY6JckT6I5FDOyNqBeCfzDiLVMfp5vBZa163gqMLFx1QBVdU1VLaM5tPQ3wOp2+u3Aikm/tydV1XlTbEdzkKGgrWHHJLsM/OxAcxz+Z8D97QnkDw5Z7tgkB7cvfH8CfL6qHqV5J/vaJK9u37XukuTwISeqSXL0QPt9NC88j45Q81XAT4FTkuzYnsh+LXD+43vqXEDzIv4h2r2E1m7AQzTPfxHwvhHX93ngNUlemmQnmn4Z6f+0PaH+mzQv1PfRnNMZpZa7gV+bVPvDNHsoTwL+bGAbOyX5vSRPrapfAA+wqb//CviDJC9M48lJjkqy2xTb0RxkKGhruIQmADb+nAp8BHgizTv/bwFfGbLcOTSXdv4I2AX4rwBVdTvNO9UPABto3oG+j+F/ry8ArkpzddFFwElVdct0BVfVz2mu0vmdtsYzgLdV1Q9GeL6D6/kpm4Jh8GTsh4DfAP6V5qT5F0Zc343AicBnaPYa7gPWT7PYKUkepDlc9CngWuDFbW2j1HIa8N/bQz7vbddxK81e0/dpfn+DjgPWtYeW/oBmz4OqWkNzXuEv27rXAv9pC9vRHBS/ZEeStJF7CpKkjqEgSeoYCpKkTm+hkGRxkiuS3NReP35S235qe7309e3PkQPLvD/J2iQ3J3l1X7VJkobr7URzkn2AfarquvaStGtpPtzzZuChqvrwpPkPBs4DDqX5sMvXgF9vL1Ecas8996yJiYle6pek7dW1117746oaNmwMO/S10aq6i+aSOqrqwSQ38dhPi062DDi//Vj9LUnW0gTEN6daYGJigjVr1mzFqiVp+5fk1qmmzco5hSQTwPNpPjAE8O4k301yVpLd27ZFPHZYgfUMCZEkJyRZk2TNhg0beqxakuaf3kOh/cj9BcB7quoBmhEgDwAOodmT+IuNsw5ZfLNjW1V1ZlUtraqlCxcO3fuRJM1Qr6HQDk98AXBuVX0BoKrubkdQ/CXNx+IPbWdfz2PHwtmPZnwaSdIs6fPqo9CMu35TVZ0+0D440uUbgBva+xcBx7Tjt+xPM5b71X3VJ0naXG8nmoGX0IyR8r0k17dtHwDekuQQmkND62hGtqSqbkyymmaslUeAE7d05ZEkaevr8+qjbzD8PMElW1hmBc2XsUiSxsBPNEuSOoaCJKljKEiSOn2eaN6mTSy/eLO2dSuPmnaapjas38C+k+YS9xQkSR1DQZLUMRQkSR1DQZLUMRQkSR1DQZLUMRQkSR1DQZLUMRQkSR1DQZLUMRQkSR1DQZLUMRQkSR1DQZLUMRQkSR1DQZLUMRQkSR1DQZLUMRQkSR1DQZLUMRQkSR1DQZLUMRQkSR1DQZLUMRQkSZ0dxl3AfDKx/OKh7etWHrXFaeMwrJ5Raplrz0Pa2mb6v7GtcE9BktQxFCRJHUNBktQxFCRJnd5CIcniJFckuSnJjUlOatv3SHJpkh+2t7sPLPP+JGuT3Jzk1X3VJkkars89hUeAk6vqIOAw4MQkBwPLgcuq6kDgsvYx7bRjgGcDRwBnJFnQY32SpEl6C4WququqrmvvPwjcBCwClgGr2tlWAa9v7y8Dzq+qh6vqFmAtcGhf9UmSNjcr5xSSTADPB64C9q6qu6AJDmCvdrZFwO0Di61v2yav64Qka5Ks2bBhQ59lS9K803soJNkVuAB4T1U9sKVZh7TVZg1VZ1bV0qpaunDhwq1VpiSJnkMhyY40gXBuVX2hbb47yT7t9H2Ae9r29cDigcX3A+7ssz5J0mP1efVRgE8CN1XV6QOTLgKOb+8fD1w40H5Mkp2T7A8cCFzdV32SpM31OfbRS4DjgO8lub5t+wCwElid5B3AbcDRAFV1Y5LVwPdprlw6saoe7bE+SdIkvYVCVX2D4ecJAF4xxTIrgBV91SRJ2jI/0SxJ6hgKkqSOoSBJ6hgKkqSOoSBJ6hgKkqSOoSBJ6hgKkqSOoSBJ6hgKkqSOoSBJ6hgKkqSOoSBJ6hgKkqSOoSBJ6hgKkqSOoSBJ6hgKkqSOoSBJ6hgKkqSOoSBJ6hgKkqSOoSBJ6hgKkqSOoSBJ6hgKkqSOoSBJ6hgKkqSOoSBJ6hgKkqSOoSBJ6hgKkqSOoSBJ6hgKkqROb6GQ5Kwk9yS5YaDt1CR3JLm+/TlyYNr7k6xNcnOSV/dVlyRpan3uKZwNHDGk/X9X1SHtzyUASQ4GjgGe3S5zRpIFPdYmSRqit1CoqiuBn4w4+zLg/Kp6uKpuAdYCh/ZVmyRpuB3GsM13J3kbsAY4uaruAxYB3xqYZ33btpkkJwAnACxZsqTnUh+/ieUXD21ft/KoWd/edLUMmz5KnTNdTlvfbP+9afs32yeaPwYcABwC3AX8RdueIfPWsBVU1ZlVtbSqli5cuLCfKiVpnprVUKiqu6vq0ar6JfBXbDpEtB5YPDDrfsCds1mbJGmWQyHJPgMP3wBsvDLpIuCYJDsn2R84ELh6NmuTJPV4TiHJecDhwJ5J1gMfBA5PcgjNoaF1wLsAqurGJKuB7wOPACdW1aN91SZJGq63UKiqtwxp/uQW5l8BrOirHknS9PxEsySpYyhIkjqGgiSpM1IoJHnJKG2SpG3bqHsKHx2xTZK0Ddvi1UdJXgS8GFiY5I8GJj0FcMA6SdrOTHdJ6k7Aru18uw20PwC8qa+iJEnjscVQqKqvA19PcnZV3TpLNUmSxmTUD6/tnORMYGJwmap6eR9FSZLGY9RQ+Bzw/4BPAA4/IUnbqVFD4ZGq+livlUiSxm7US1K/lOS/JNknyR4bf3qtTJI060bdUzi+vX3fQFsBv7Z1y5EkjdNIoVBV+/ddiCRp/EYKhfY7lTdTVZ/auuVIksZp1MNHLxi4vwvwCuA6wFCQpO3IqIeP/nDwcZKnAuf0UpEkaWxmOnT2v9F8j7IkaTsy6jmFL9FcbQTNQHgHAav7KkqSNB6jnlP48MD9R4Bbq2p9D/VIksZo1HMKX0+yN5tOOP+wv5KkrWNi+cVD29etPGrK6Runads33e9fw436zWtvBq4GjgbeDFyVxKGzJWk7M+rhoz8GXlBV9wAkWQh8Dfh8X4VJkmbfqFcfPWFjILTufRzLSpK2EaPuKXwlyVeB89rH/xG4pJ+SJEnjMt13ND8T2Luq3pfkd4GXAgG+CZw7C/VJkmbRdIeAPgI8CFBVX6iqP6qq/0azl/CRvouTJM2u6UJhoqq+O7mxqtbQfDWnJGk7Ml0o7LKFaU/cmoVIksZvulC4Jsk7JzcmeQdwbT8lSZLGZbqrj94DfDHJ77EpBJYCOwFv6LMwSdLs22IoVNXdwIuTvAx4Ttt8cVVd3ntlkqRZN+rYR1cAV/RciyRpzPxUsiSp01soJDkryT1Jbhho2yPJpUl+2N7uPjDt/UnWJrk5yav7qkuSNLU+9xTOBo6Y1LYcuKyqDgQuax+T5GDgGODZ7TJnJFnQY22SpCF6C4WquhL4yaTmZcCq9v4q4PUD7edX1cNVdQuwFji0r9okScPN9jmFvavqLoD2dq+2fRFw+8B869s2SdIsmisnmjOkrYa0keSEJGuSrNmwYUPPZUnS/DLboXB3kn0A2tuN39GwHlg8MN9+wJ3DVlBVZ1bV0qpaunDhwl6LlaT5ZrZD4SLg+Pb+8cCFA+3HJNk5yf7AgTRf/ylJmkWjfsnO45bkPOBwYM8k64EPAiuB1e3YSbfRfOczVXVjktXA94FHgBOr6tG+apMkDddbKFTVW6aY9Iop5l8BrOirHknS9ObKiWZJ0hxgKEiSOoaCJKnT2zkF6fGYWH7x0PZ1K4/a4jRtO2b6e/T3P7vcU5AkdQwFSVLHUJAkdQwFSVLHUJAkdQwFSVLHUJAkdQwFSVLHUJAkdQwFSVLHUJAkdQwFSVLHUJAkdQwFSVLHUJAkdQwFSVLHUJAkdQwFSVLHUJAkdQwFSVLHUJAkdQwFSVLHUJAkdQwFSVLHUJAkdXYYdwGa3sTyi4e2r1t51CxXMveMo2+GbXPj9rZUz0ynzdSvss4tPce+tjkT43iOM7Wt/B+7pyBJ6hgKkqSOoSBJ6hgKkqTOWE40J1kHPAg8CjxSVUuT7AF8FpgA1gFvrqr7xlGfJM1X49xTeFlVHVJVS9vHy4HLqupA4LL2sSRpFs2lw0fLgFXt/VXA68dYiyTNS+MKhQL+Lsm1SU5o2/auqrsA2tu9xlSbJM1b4/rw2kuq6s4kewGXJvnBqAu2IXICwJIlS/qqT5LmpbHsKVTVne3tPcAXgUOBu5PsA9De3jPFsmdW1dKqWrpw4cLZKlmS5oVZD4UkT06y28b7wKuAG4CLgOPb2Y4HLpzt2iRpvhvH4aO9gS8m2bj9z1TVV5JcA6xO8g7gNuDoMdQmSfParIdCVf0L8Lwh7fcCr5jteiRJm8ylS1IlSWNmKEiSOoaCJKljKEiSOoaCJKljKEiSOoaCJKljKEiSOoaCJKljKEiSOoaCJKljKEiSOuP6kp05YWL5xZu1rVt51Bgq0Vwzl/42htUCv3o9M32OffRNX89xprZm34yy7JaWm+2+cU9BktQxFCRJHUNBktQxFCRJHUNBktQxFCRJHUNBktQxFCRJHUNBktQxFCRJHUNBktQxFCRJHUNBktQxFCRJHUNBktQxFCRJHUNBktQxFCRJHUNBktQxFCRJHUNBktQxFCRJnTkXCkmOSHJzkrVJlo+7HkmaT+ZUKCRZAPxf4HeAg4G3JDl4vFVJ0vwxp0IBOBRYW1X/UlU/B84Hlo25JkmaN1JV466hk+RNwBFV9fvt4+OAF1bVuwfmOQE4oX34LODmrbDpPYEfb4X1bK/sn6nZN1Ozb6Y27r55RlUtHDZhh9muZBoZ0vaY1KqqM4Ezt+pGkzVVtXRrrnN7Yv9Mzb6Zmn0ztbncN3Pt8NF6YPHA4/2AO8dUiyTNO3MtFK4BDkyyf5KdgGOAi8ZckyTNG3Pq8FFVPZLk3cBXgQXAWVV14yxseqsejtoO2T9Ts2+mZt9Mbc72zZw60SxJGq+5dvhIkjRGhoIkqTPvQ8FhNTZJclaSe5LcMNC2R5JLk/ywvd19nDWOS5LFSa5IclOSG5Oc1LbP+/5JskuSq5N8p+2bD7Xt875vNkqyIMm3k3y5fTxn+2Zeh4LDamzmbOCISW3Lgcuq6kDgsvbxfPQIcHJVHQQcBpzY/q3YP/Aw8PKqeh5wCHBEksOwbwadBNw08HjO9s28DgUcVuMxqupK4CeTmpcBq9r7q4DXz2pRc0RV3VVV17X3H6T5B1+E/UM1Hmof7tj+FPYNAEn2A44CPjHQPGf7Zr6HwiLg9oHH69s2bbJ3Vd0FzQsjsNeY6xm7JBPA84GrsH+A7vDI9cA9wKVVZd9s8hHgFOCXA21ztm/meyhMO6yGNCjJrsAFwHuq6oFx1zNXVNWjVXUIzSgEhyZ5zrhrmguSvAa4p6quHXcto5rvoeCwGtO7O8k+AO3tPWOuZ2yS7EgTCOdW1RfaZvtnQFXdD/w9zbkp+wZeArwuyTqaw9MvT/Jp5nDfzPdQcFiN6V0EHN/ePx64cIy1jE2SAJ8Ebqqq0wcmzfv+SbIwydPa+08EXgn8APuGqnp/Ve1XVRM0ry+XV9WxzOG+mfefaE5yJM0xv43DaqwYc0ljk+Q84HCaYX3vBj4I/A2wGlgC3AYcXVWTT0Zv95K8FPgH4HtsOjb8AZrzCvO6f5I8l+Zk6QKaN5qrq+pPkjyded43g5IcDry3ql4zl/tm3oeCJGmT+X74SJI0wFCQJHUMBUlSx1CQJHUMBUlSx1CQRpDkoenn6uY9Ncl7+1q/1CdDQZLUMRSkGUry2iRXtePkfy3J3gOTn5fk8na8/HcOLPO+JNck+e7G7x2Q5hJDQZq5bwCHVdXzaca1OWVg2nNphkt+EfA/k+yb5FXAgTRDth8C/GaS35rlmqUt2mHcBUjbsP2Az7YDmu0E3DIw7cKq+hnwsyRX0ATBS4FXAd9u59mVJiSunL2SpS0zFKSZ+yhwelVd1I5rc+rAtMnjxxTNUO2nVdXHZ6c86fHz8JE0c08F7mjvHz9p2rL2u4ufTjPI4DXAV4G3t9/JQJJFSebMl6tI4J6CNKonJVk/8Ph0mj2DzyW5A/gWsP/A9KuBi2lGwfzTqroTuDPJQcA3m5G4eQg4ljk0lr7kKKmSpI6HjyRJHUNBktQxFCRJHUNBktQxFCRJHUNBktQxFCRJnf8PUCz60e6E8H0AAAAASUVORK5CYII=\n",
      "text/plain": [
       "<Figure size 432x288 with 1 Axes>"
      ]
     },
     "metadata": {
      "needs_background": "light"
     },
     "output_type": "display_data"
    },
    {
     "data": {
      "image/png": "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\n",
      "text/plain": [
       "<Figure size 432x288 with 1 Axes>"
      ]
     },
     "metadata": {
      "needs_background": "light"
     },
     "output_type": "display_data"
    }
   ],
   "source": [
    "### Data exploration visualization code goes here.\n",
    "### Feel free to use as many code cells as needed.\n",
    "import matplotlib.pyplot as plt\n",
    "# Visualizations will be shown in the notebook.\n",
    "%matplotlib inline\n",
    "\n",
    "#might want to show multiple images \n",
    "label = [i for i in range(43)]\n",
    "train = [0] * 43\n",
    "valid = [0] * 43\n",
    "test = [0] * 43\n",
    "for i in y_train:\n",
    "    train[i]+=1\n",
    "for i in y_valid:\n",
    "    valid[i]+=1\n",
    "for i in y_test:\n",
    "    test[i]+=1\n",
    "\n",
<<<<<<< HEAD
=======
    "plt.figure()\n",
>>>>>>> improve_model
    "plt.bar(label , train, label = \"train\")\n",
    "plt.xlabel(\"Label\")\n",
    "plt.ylabel(\"Count\")\n",
    "plt.title(\"Labels for Train Dataset\")\n",
    "# plt.xticks(label,label)\n",
    "plt.show()\n",
<<<<<<< HEAD
=======
    "# plt.savefig('output_images/TrainData.png')\n",
>>>>>>> improve_model
    "\n",
    "plt.bar(label, valid, label = \"valid\")\n",
    "plt.xlabel(\"Label\")\n",
    "plt.ylabel(\"Count\")\n",
    "plt.title(\"Labels for Valid Dataset\")\n",
    "plt.show()\n",
<<<<<<< HEAD
=======
    "# plt.savefig('output_images/ValidData.png')\n",
>>>>>>> improve_model
    "\n",
    "plt.bar(label, test, label = \"test\")\n",
    "plt.xlabel(\"Label\")\n",
    "plt.ylabel(\"Count\")\n",
    "plt.title(\"Labels for Test Dataset\")\n",
<<<<<<< HEAD
    "plt.show()"
=======
    "plt.show()\n",
    "# plt.savefig('output_images/TestData.png')"
>>>>>>> improve_model
   ]
  },
  {
   "cell_type": "markdown",
   "metadata": {},
   "source": [
    "----\n",
    "\n",
    "## Step 2: Design and Test a Model Architecture\n",
    "\n",
    "Design and implement a deep learning model that learns to recognize traffic signs. Train and test your model on the [German Traffic Sign Dataset](http://benchmark.ini.rub.de/?section=gtsrb&subsection=dataset).\n",
    "\n",
    "The LeNet-5 implementation shown in the [classroom](https://classroom.udacity.com/nanodegrees/nd013/parts/fbf77062-5703-404e-b60c-95b78b2f3f9e/modules/6df7ae49-c61c-4bb2-a23e-6527e69209ec/lessons/601ae704-1035-4287-8b11-e2c2716217ad/concepts/d4aca031-508f-4e0b-b493-e7b706120f81) at the end of the CNN lesson is a solid starting point. You'll have to change the number of classes and possibly the preprocessing, but aside from that it's plug and play! \n",
    "\n",
    "With the LeNet-5 solution from the lecture, you should expect a validation set accuracy of about 0.89. To meet specifications, the validation set accuracy will need to be at least 0.93. It is possible to get an even higher accuracy, but 0.93 is the minimum for a successful project submission. \n",
    "\n",
    "There are various aspects to consider when thinking about this problem:\n",
    "\n",
    "- Neural network architecture (is the network over or underfitting?)\n",
    "- Play around preprocessing techniques (normalization, rgb to grayscale, etc)\n",
    "- Number of examples per label (some have more than others).\n",
    "- Generate fake data.\n",
    "\n",
    "Here is an example of a [published baseline model on this problem](http://yann.lecun.com/exdb/publis/pdf/sermanet-ijcnn-11.pdf). It's not required to be familiar with the approach used in the paper but, it's good practice to try to read papers like these."
   ]
  },
  {
   "cell_type": "markdown",
   "metadata": {},
   "source": [
    "### Pre-process the Data Set (normalization, grayscale, etc.)"
   ]
  },
  {
   "cell_type": "markdown",
   "metadata": {},
   "source": [
    "Minimally, the image data should be normalized so that the data has mean zero and equal variance. For image data, `(pixel - 128)/ 128` is a quick way to approximately normalize the data and can be used in this project. \n",
    "\n",
    "Other pre-processing steps are optional. You can try different techniques to see if it improves performance. \n",
    "\n",
    "Use the code cell (or multiple code cells, if necessary) to implement the first step of your project."
   ]
  },
  {
   "cell_type": "code",
   "execution_count": 4,
   "metadata": {},
   "outputs": [
    {
     "name": "stdout",
     "output_type": "stream",
     "text": [
      "WARNING:tensorflow:From C:\\Users\\Jo\\Anaconda3\\envs\\tf-gpu\\lib\\site-packages\\tensorflow_core\\python\\compat\\v2_compat.py:88: disable_resource_variables (from tensorflow.python.ops.variable_scope) is deprecated and will be removed in a future version.\n",
      "Instructions for updating:\n",
      "non-resource variables are not supported in the long term\n"
     ]
    }
   ],
   "source": [
    "### Preprocess the data here. It is required to normalize the data. Other preprocessing steps could include \n",
    "### converting to grayscale, etc.\n",
    "### Feel free to use as many code cells as needed.\n",
    "import tensorflow.compat.v1 as tf\n",
    "from sklearn.utils import shuffle\n",
    "tf.disable_v2_behavior()\n",
    "import numpy as np"
   ]
  },
  {
   "cell_type": "code",
   "execution_count": 99,
   "metadata": {},
   "outputs": [],
   "source": [
    "def augmented(image):\n",
    "    image = tf.image.resize_with_crop_or_pad(image, 40, 40) # Add 6 pixels of padding\n",
    "    image = tf.image.random_crop(image, size=[32, 32, 3]) # Random crop back to 28x28\n",
    "    image = tf.image.random_brightness(image, max_delta=0.5)\n",
    "    return image"
   ]
  },
  {
   "cell_type": "code",
   "execution_count": 100,
   "metadata": {
    "collapsed": true
   },
   "outputs": [
    {
     "name": "stdout",
     "output_type": "stream",
     "text": [
      "(34799, 32, 32, 3)\n",
      "(8, 32, 32, 3)\n",
      "\n",
      "(34807, 32, 32, 3)\n",
      "(8, 32, 32, 3)\n",
      "\n",
      "(34815, 32, 32, 3)\n",
      "(8, 32, 32, 3)\n",
      "\n",
      "(34823, 32, 32, 3)\n",
      "(8, 32, 32, 3)\n",
      "\n",
      "(34831, 32, 32, 3)\n",
      "(8, 32, 32, 3)\n",
      "\n",
      "(34839, 32, 32, 3)\n",
      "(8, 32, 32, 3)\n",
      "\n",
      "(34847, 32, 32, 3)\n",
      "(8, 32, 32, 3)\n",
      "\n",
      "(34855, 32, 32, 3)\n",
      "(8, 32, 32, 3)\n",
      "\n",
      "(34863, 32, 32, 3)\n",
      "(8, 32, 32, 3)\n",
      "\n",
      "(34871, 32, 32, 3)\n",
      "(8, 32, 32, 3)\n",
      "\n",
      "(34879, 32, 32, 3)\n",
      "(8, 32, 32, 3)\n",
      "\n",
      "(34887, 32, 32, 3)\n",
      "(8, 32, 32, 3)\n",
      "\n",
      "(34895, 32, 32, 3)\n",
      "(8, 32, 32, 3)\n",
      "\n",
      "(34903, 32, 32, 3)\n",
      "(8, 32, 32, 3)\n",
      "\n",
      "(34911, 32, 32, 3)\n",
      "(8, 32, 32, 3)\n",
      "\n",
      "(34919, 32, 32, 3)\n",
      "(8, 32, 32, 3)\n",
      "\n",
      "(34927, 32, 32, 3)\n",
      "(8, 32, 32, 3)\n",
      "\n",
      "(34935, 32, 32, 3)\n",
      "(8, 32, 32, 3)\n",
      "\n",
      "(34943, 32, 32, 3)\n",
      "(8, 32, 32, 3)\n",
      "\n",
      "(34951, 32, 32, 3)\n",
      "(8, 32, 32, 3)\n",
      "\n",
      "(34959, 32, 32, 3)\n",
      "(8, 32, 32, 3)\n",
      "\n",
      "(34967, 32, 32, 3)\n",
      "(8, 32, 32, 3)\n",
      "\n",
      "(34975, 32, 32, 3)\n",
      "(8, 32, 32, 3)\n",
      "\n",
      "(34983, 32, 32, 3)\n",
      "(8, 32, 32, 3)\n",
      "\n",
      "(34991, 32, 32, 3)\n",
      "(8, 32, 32, 3)\n",
      "\n",
      "(34999, 32, 32, 3)\n",
      "(8, 32, 32, 3)\n",
      "\n",
      "(35007, 32, 32, 3)\n",
      "(8, 32, 32, 3)\n",
      "\n",
      "(35015, 32, 32, 3)\n",
      "(8, 32, 32, 3)\n",
      "\n",
      "(35023, 32, 32, 3)\n",
      "(8, 32, 32, 3)\n",
      "\n",
      "(35031, 32, 32, 3)\n",
      "(8, 32, 32, 3)\n",
      "\n",
      "(35039, 32, 32, 3)\n",
      "(8, 32, 32, 3)\n",
      "\n",
      "(35047, 32, 32, 3)\n",
      "(8, 32, 32, 3)\n",
      "\n",
      "(35055, 32, 32, 3)\n",
      "(8, 32, 32, 3)\n",
      "\n",
      "(35063, 32, 32, 3)\n",
      "(8, 32, 32, 3)\n",
      "\n",
      "(35071, 32, 32, 3)\n",
      "(8, 32, 32, 3)\n",
      "\n",
      "(35079, 32, 32, 3)\n",
      "(8, 32, 32, 3)\n",
      "\n",
      "(35087, 32, 32, 3)\n",
      "(8, 32, 32, 3)\n",
      "\n",
      "(35095, 32, 32, 3)\n",
      "(8, 32, 32, 3)\n",
      "\n",
      "(35103, 32, 32, 3)\n",
      "(8, 32, 32, 3)\n",
      "\n",
      "(35111, 32, 32, 3)\n",
      "(8, 32, 32, 3)\n",
      "\n",
      "(35119, 32, 32, 3)\n",
      "(8, 32, 32, 3)\n",
      "\n",
      "(35127, 32, 32, 3)\n",
      "(8, 32, 32, 3)\n",
      "\n",
      "(35135, 32, 32, 3)\n",
      "(8, 32, 32, 3)\n",
      "\n",
      "(35143, 32, 32, 3)\n",
      "(8, 32, 32, 3)\n",
      "\n",
      "(35151, 32, 32, 3)\n",
      "(8, 32, 32, 3)\n",
      "\n",
      "(35159, 32, 32, 3)\n",
      "(8, 32, 32, 3)\n",
      "\n",
      "(35167, 32, 32, 3)\n",
      "(8, 32, 32, 3)\n",
      "\n",
      "(35175, 32, 32, 3)\n",
      "(8, 32, 32, 3)\n",
      "\n",
      "(35183, 32, 32, 3)\n",
      "(8, 32, 32, 3)\n",
      "\n",
      "(35191, 32, 32, 3)\n",
      "(8, 32, 32, 3)\n",
      "\n",
      "(35199, 32, 32, 3)\n",
      "(8, 32, 32, 3)\n",
      "\n",
      "(35207, 32, 32, 3)\n",
      "(8, 32, 32, 3)\n",
      "\n",
      "(35215, 32, 32, 3)\n",
      "(8, 32, 32, 3)\n",
      "\n",
      "(35223, 32, 32, 3)\n",
      "(8, 32, 32, 3)\n",
      "\n",
      "(35231, 32, 32, 3)\n",
      "(8, 32, 32, 3)\n",
      "\n",
      "(35239, 32, 32, 3)\n",
      "(8, 32, 32, 3)\n",
      "\n",
      "(35247, 32, 32, 3)\n",
      "(8, 32, 32, 3)\n",
      "\n",
      "(35255, 32, 32, 3)\n",
      "(8, 32, 32, 3)\n",
      "\n",
      "(35263, 32, 32, 3)\n",
      "(8, 32, 32, 3)\n",
      "\n",
      "(35271, 32, 32, 3)\n",
      "(8, 32, 32, 3)\n",
      "\n",
      "(35279, 32, 32, 3)\n",
      "(8, 32, 32, 3)\n",
      "\n",
      "(35287, 32, 32, 3)\n",
      "(8, 32, 32, 3)\n",
      "\n",
      "(35295, 32, 32, 3)\n",
      "(8, 32, 32, 3)\n",
      "\n",
      "(35303, 32, 32, 3)\n",
      "(8, 32, 32, 3)\n",
      "\n",
      "(35311, 32, 32, 3)\n",
      "(8, 32, 32, 3)\n",
      "\n",
      "(35319, 32, 32, 3)\n",
      "(8, 32, 32, 3)\n",
      "\n",
      "(35327, 32, 32, 3)\n",
      "(8, 32, 32, 3)\n",
      "\n",
      "(35335, 32, 32, 3)\n",
      "(8, 32, 32, 3)\n",
      "\n",
      "(35343, 32, 32, 3)\n",
      "(8, 32, 32, 3)\n",
      "\n",
      "(35351, 32, 32, 3)\n",
      "(8, 32, 32, 3)\n",
      "\n",
      "(35359, 32, 32, 3)\n",
      "(8, 32, 32, 3)\n",
      "\n",
      "(35367, 32, 32, 3)\n",
      "(8, 32, 32, 3)\n",
      "\n",
      "(35375, 32, 32, 3)\n",
      "(8, 32, 32, 3)\n",
      "\n",
      "(35383, 32, 32, 3)\n",
      "(8, 32, 32, 3)\n",
      "\n",
      "(35391, 32, 32, 3)\n",
      "(8, 32, 32, 3)\n",
      "\n",
      "(35399, 32, 32, 3)\n",
      "(8, 32, 32, 3)\n",
      "\n",
      "(35407, 32, 32, 3)\n",
      "(8, 32, 32, 3)\n",
      "\n",
      "(35415, 32, 32, 3)\n",
      "(8, 32, 32, 3)\n",
      "\n",
      "(35423, 32, 32, 3)\n",
      "(8, 32, 32, 3)\n",
      "\n",
      "(35431, 32, 32, 3)\n",
      "(8, 32, 32, 3)\n",
      "\n",
      "(35439, 32, 32, 3)\n",
      "(8, 32, 32, 3)\n",
      "\n",
      "(35447, 32, 32, 3)\n",
      "(8, 32, 32, 3)\n",
      "\n",
      "(35455, 32, 32, 3)\n",
      "(8, 32, 32, 3)\n",
      "\n",
      "(35463, 32, 32, 3)\n",
      "(8, 32, 32, 3)\n",
      "\n",
      "(35471, 32, 32, 3)\n",
      "(8, 32, 32, 3)\n",
      "\n",
      "(35479, 32, 32, 3)\n",
      "(8, 32, 32, 3)\n",
      "\n",
      "(35487, 32, 32, 3)\n",
      "(8, 32, 32, 3)\n",
      "\n",
      "(35495, 32, 32, 3)\n",
      "(8, 32, 32, 3)\n",
      "\n",
      "(35503, 32, 32, 3)\n",
      "(8, 32, 32, 3)\n",
      "\n",
      "(35511, 32, 32, 3)\n",
      "(8, 32, 32, 3)\n",
      "\n",
      "(35519, 32, 32, 3)\n",
      "(8, 32, 32, 3)\n",
      "\n",
      "(35527, 32, 32, 3)\n",
      "(8, 32, 32, 3)\n",
      "\n",
      "(35535, 32, 32, 3)\n",
      "(8, 32, 32, 3)\n",
      "\n",
      "(35543, 32, 32, 3)\n",
      "(8, 32, 32, 3)\n",
      "\n",
      "(35551, 32, 32, 3)\n",
      "(8, 32, 32, 3)\n",
      "\n",
      "(35559, 32, 32, 3)\n",
      "(8, 32, 32, 3)\n",
      "\n",
      "(35567, 32, 32, 3)\n",
      "(8, 32, 32, 3)\n",
      "\n",
      "(35575, 32, 32, 3)\n",
      "(8, 32, 32, 3)\n",
      "\n",
      "(35583, 32, 32, 3)\n",
      "(8, 32, 32, 3)\n",
      "\n",
      "(35591, 32, 32, 3)\n",
      "(8, 32, 32, 3)\n",
      "\n",
      "(35599, 32, 32, 3)\n",
      "(8, 32, 32, 3)\n",
      "\n",
      "(35607, 32, 32, 3)\n",
      "(8, 32, 32, 3)\n",
      "\n",
      "(35615, 32, 32, 3)\n",
      "(8, 32, 32, 3)\n",
      "\n",
      "(35623, 32, 32, 3)\n",
      "(8, 32, 32, 3)\n",
      "\n",
      "(35631, 32, 32, 3)\n",
      "(8, 32, 32, 3)\n",
      "\n",
      "(35639, 32, 32, 3)\n",
      "(8, 32, 32, 3)\n",
      "\n",
      "(35647, 32, 32, 3)\n",
      "(8, 32, 32, 3)\n",
      "\n",
      "(35655, 32, 32, 3)\n",
      "(8, 32, 32, 3)\n",
      "\n",
      "(35663, 32, 32, 3)\n",
      "(8, 32, 32, 3)\n",
      "\n",
      "(35671, 32, 32, 3)\n",
      "(8, 32, 32, 3)\n",
      "\n",
      "(35679, 32, 32, 3)\n",
      "(8, 32, 32, 3)\n",
      "\n",
      "(35687, 32, 32, 3)\n",
      "(8, 32, 32, 3)\n",
      "\n",
      "(35695, 32, 32, 3)\n",
      "(8, 32, 32, 3)\n",
      "\n",
      "(35703, 32, 32, 3)\n",
      "(8, 32, 32, 3)\n",
      "\n",
      "(35711, 32, 32, 3)\n",
      "(8, 32, 32, 3)\n",
      "\n",
      "(35719, 32, 32, 3)\n",
      "(8, 32, 32, 3)\n",
      "\n",
      "(35727, 32, 32, 3)\n",
      "(8, 32, 32, 3)\n",
      "\n",
      "(35735, 32, 32, 3)\n",
      "(8, 32, 32, 3)\n",
      "\n",
      "(35743, 32, 32, 3)\n",
      "(8, 32, 32, 3)\n",
      "\n",
      "(35751, 32, 32, 3)\n",
      "(8, 32, 32, 3)\n",
      "\n",
      "(35759, 32, 32, 3)\n",
      "(8, 32, 32, 3)\n",
      "\n",
      "(35767, 32, 32, 3)\n",
      "(8, 32, 32, 3)\n",
      "\n",
      "(35775, 32, 32, 3)\n",
      "(8, 32, 32, 3)\n",
      "\n",
      "(35783, 32, 32, 3)\n",
      "(8, 32, 32, 3)\n",
      "\n",
      "(35791, 32, 32, 3)\n",
      "(8, 32, 32, 3)\n",
      "\n",
      "(35799, 32, 32, 3)\n",
      "(8, 32, 32, 3)\n",
      "\n",
      "(35807, 32, 32, 3)\n",
      "(8, 32, 32, 3)\n",
      "\n",
      "(35815, 32, 32, 3)\n",
      "(8, 32, 32, 3)\n",
      "\n",
      "(35823, 32, 32, 3)\n",
      "(8, 32, 32, 3)\n",
      "\n",
      "(35831, 32, 32, 3)\n",
      "(8, 32, 32, 3)\n",
      "\n",
      "(35839, 32, 32, 3)\n",
      "(8, 32, 32, 3)\n",
      "\n",
      "(35847, 32, 32, 3)\n",
      "(8, 32, 32, 3)\n",
      "\n",
      "(35855, 32, 32, 3)\n",
      "(8, 32, 32, 3)\n",
      "\n",
      "(35863, 32, 32, 3)\n",
      "(8, 32, 32, 3)\n",
      "\n",
      "(35871, 32, 32, 3)\n",
      "(8, 32, 32, 3)\n",
      "\n",
      "(35879, 32, 32, 3)\n",
      "(8, 32, 32, 3)\n",
      "\n",
      "(35887, 32, 32, 3)\n",
      "(8, 32, 32, 3)\n",
      "\n",
      "(35895, 32, 32, 3)\n",
      "(8, 32, 32, 3)\n",
      "\n",
      "(35903, 32, 32, 3)\n",
      "(8, 32, 32, 3)\n",
      "\n",
      "(35911, 32, 32, 3)\n",
      "(8, 32, 32, 3)\n",
      "\n",
      "(35919, 32, 32, 3)\n",
      "(8, 32, 32, 3)\n",
      "\n",
      "(35927, 32, 32, 3)\n",
      "(8, 32, 32, 3)\n",
      "\n",
      "(35935, 32, 32, 3)\n",
      "(8, 32, 32, 3)\n",
      "\n",
      "(35943, 32, 32, 3)\n",
      "(8, 32, 32, 3)\n",
      "\n",
      "(35951, 32, 32, 3)\n",
      "(8, 32, 32, 3)\n",
      "\n",
      "(35959, 32, 32, 3)\n",
      "(8, 32, 32, 3)\n",
      "\n",
      "(35967, 32, 32, 3)\n",
      "(8, 32, 32, 3)\n",
      "\n",
      "(35975, 32, 32, 3)\n",
      "(8, 32, 32, 3)\n",
      "\n",
      "(35983, 32, 32, 3)\n",
      "(8, 32, 32, 3)\n",
      "\n",
      "(35991, 32, 32, 3)\n",
      "(8, 32, 32, 3)\n",
      "\n",
      "(35999, 32, 32, 3)\n",
      "(8, 32, 32, 3)\n",
      "\n",
      "(36007, 32, 32, 3)\n",
      "(8, 32, 32, 3)\n",
      "\n",
      "(36015, 32, 32, 3)\n",
      "(8, 32, 32, 3)\n",
      "\n",
      "(36023, 32, 32, 3)\n",
      "(8, 32, 32, 3)\n",
      "\n",
      "(36031, 32, 32, 3)\n",
      "(8, 32, 32, 3)\n",
      "\n",
      "(36039, 32, 32, 3)\n",
      "(8, 32, 32, 3)\n",
      "\n",
      "(36047, 32, 32, 3)\n",
      "(8, 32, 32, 3)\n",
      "\n",
      "(36055, 32, 32, 3)\n",
      "(8, 32, 32, 3)\n",
      "\n",
      "(36063, 32, 32, 3)\n",
      "(8, 32, 32, 3)\n",
      "\n"
     ]
    },
    {
     "ename": "KeyboardInterrupt",
     "evalue": "",
     "output_type": "error",
     "traceback": [
      "\u001b[1;31m---------------------------------------------------------------------------\u001b[0m",
      "\u001b[1;31mKeyboardInterrupt\u001b[0m                         Traceback (most recent call last)",
      "\u001b[1;32m<ipython-input-100-81575dbbc0e7>\u001b[0m in \u001b[0;36m<module>\u001b[1;34m\u001b[0m\n\u001b[0;32m      8\u001b[0m             \u001b[0maugImgList\u001b[0m \u001b[1;33m=\u001b[0m \u001b[1;33m[\u001b[0m\u001b[1;33m]\u001b[0m\u001b[1;33m\u001b[0m\u001b[1;33m\u001b[0m\u001b[0m\n\u001b[0;32m      9\u001b[0m             \u001b[1;32mfor\u001b[0m \u001b[0mj\u001b[0m \u001b[1;32min\u001b[0m \u001b[0mrange\u001b[0m\u001b[1;33m(\u001b[0m\u001b[1;33m(\u001b[0m\u001b[0mIMG_MAX\u001b[0m \u001b[1;33m-\u001b[0m \u001b[0mtrain\u001b[0m\u001b[1;33m[\u001b[0m\u001b[0my_train\u001b[0m\u001b[1;33m[\u001b[0m\u001b[0mi\u001b[0m\u001b[1;33m]\u001b[0m\u001b[1;33m]\u001b[0m\u001b[1;33m)\u001b[0m\u001b[1;33m//\u001b[0m\u001b[0mtrain\u001b[0m\u001b[1;33m[\u001b[0m\u001b[0my_train\u001b[0m\u001b[1;33m[\u001b[0m\u001b[0mi\u001b[0m\u001b[1;33m]\u001b[0m\u001b[1;33m]\u001b[0m\u001b[1;33m)\u001b[0m\u001b[1;33m:\u001b[0m\u001b[1;33m\u001b[0m\u001b[1;33m\u001b[0m\u001b[0m\n\u001b[1;32m---> 10\u001b[1;33m                 \u001b[0maugImgList\u001b[0m\u001b[1;33m.\u001b[0m\u001b[0mappend\u001b[0m\u001b[1;33m(\u001b[0m\u001b[0msess\u001b[0m\u001b[1;33m.\u001b[0m\u001b[0mrun\u001b[0m\u001b[1;33m(\u001b[0m\u001b[0maugmented\u001b[0m\u001b[1;33m(\u001b[0m\u001b[0mimg\u001b[0m\u001b[1;33m)\u001b[0m\u001b[1;33m)\u001b[0m\u001b[1;33m)\u001b[0m\u001b[1;33m\u001b[0m\u001b[1;33m\u001b[0m\u001b[0m\n\u001b[0m\u001b[0;32m     11\u001b[0m                 \u001b[0mtempY\u001b[0m \u001b[1;33m=\u001b[0m \u001b[0mnp\u001b[0m\u001b[1;33m.\u001b[0m\u001b[0mappend\u001b[0m\u001b[1;33m(\u001b[0m\u001b[0mtempY\u001b[0m\u001b[1;33m,\u001b[0m \u001b[1;33m[\u001b[0m\u001b[0my_train\u001b[0m\u001b[1;33m[\u001b[0m\u001b[0mi\u001b[0m\u001b[1;33m]\u001b[0m\u001b[1;33m]\u001b[0m\u001b[1;33m,\u001b[0m \u001b[0maxis\u001b[0m \u001b[1;33m=\u001b[0m \u001b[1;36m0\u001b[0m\u001b[1;33m)\u001b[0m\u001b[1;33m\u001b[0m\u001b[1;33m\u001b[0m\u001b[0m\n\u001b[0;32m     12\u001b[0m             \u001b[0mprint\u001b[0m\u001b[1;33m(\u001b[0m\u001b[0mtempX\u001b[0m\u001b[1;33m.\u001b[0m\u001b[0mshape\u001b[0m\u001b[1;33m)\u001b[0m\u001b[1;33m\u001b[0m\u001b[1;33m\u001b[0m\u001b[0m\n",
      "\u001b[1;32m~\\Anaconda3\\envs\\tf-gpu\\lib\\site-packages\\tensorflow_core\\python\\client\\session.py\u001b[0m in \u001b[0;36mrun\u001b[1;34m(self, fetches, feed_dict, options, run_metadata)\u001b[0m\n\u001b[0;32m    958\u001b[0m     \u001b[1;32mtry\u001b[0m\u001b[1;33m:\u001b[0m\u001b[1;33m\u001b[0m\u001b[1;33m\u001b[0m\u001b[0m\n\u001b[0;32m    959\u001b[0m       result = self._run(None, fetches, feed_dict, options_ptr,\n\u001b[1;32m--> 960\u001b[1;33m                          run_metadata_ptr)\n\u001b[0m\u001b[0;32m    961\u001b[0m       \u001b[1;32mif\u001b[0m \u001b[0mrun_metadata\u001b[0m\u001b[1;33m:\u001b[0m\u001b[1;33m\u001b[0m\u001b[1;33m\u001b[0m\u001b[0m\n\u001b[0;32m    962\u001b[0m         \u001b[0mproto_data\u001b[0m \u001b[1;33m=\u001b[0m \u001b[0mtf_session\u001b[0m\u001b[1;33m.\u001b[0m\u001b[0mTF_GetBuffer\u001b[0m\u001b[1;33m(\u001b[0m\u001b[0mrun_metadata_ptr\u001b[0m\u001b[1;33m)\u001b[0m\u001b[1;33m\u001b[0m\u001b[1;33m\u001b[0m\u001b[0m\n",
      "\u001b[1;32m~\\Anaconda3\\envs\\tf-gpu\\lib\\site-packages\\tensorflow_core\\python\\client\\session.py\u001b[0m in \u001b[0;36m_run\u001b[1;34m(self, handle, fetches, feed_dict, options, run_metadata)\u001b[0m\n\u001b[0;32m   1181\u001b[0m     \u001b[1;32mif\u001b[0m \u001b[0mfinal_fetches\u001b[0m \u001b[1;32mor\u001b[0m \u001b[0mfinal_targets\u001b[0m \u001b[1;32mor\u001b[0m \u001b[1;33m(\u001b[0m\u001b[0mhandle\u001b[0m \u001b[1;32mand\u001b[0m \u001b[0mfeed_dict_tensor\u001b[0m\u001b[1;33m)\u001b[0m\u001b[1;33m:\u001b[0m\u001b[1;33m\u001b[0m\u001b[1;33m\u001b[0m\u001b[0m\n\u001b[0;32m   1182\u001b[0m       results = self._do_run(handle, final_targets, final_fetches,\n\u001b[1;32m-> 1183\u001b[1;33m                              feed_dict_tensor, options, run_metadata)\n\u001b[0m\u001b[0;32m   1184\u001b[0m     \u001b[1;32melse\u001b[0m\u001b[1;33m:\u001b[0m\u001b[1;33m\u001b[0m\u001b[1;33m\u001b[0m\u001b[0m\n\u001b[0;32m   1185\u001b[0m       \u001b[0mresults\u001b[0m \u001b[1;33m=\u001b[0m \u001b[1;33m[\u001b[0m\u001b[1;33m]\u001b[0m\u001b[1;33m\u001b[0m\u001b[1;33m\u001b[0m\u001b[0m\n",
      "\u001b[1;32m~\\Anaconda3\\envs\\tf-gpu\\lib\\site-packages\\tensorflow_core\\python\\client\\session.py\u001b[0m in \u001b[0;36m_do_run\u001b[1;34m(self, handle, target_list, fetch_list, feed_dict, options, run_metadata)\u001b[0m\n\u001b[0;32m   1359\u001b[0m     \u001b[1;32mif\u001b[0m \u001b[0mhandle\u001b[0m \u001b[1;32mis\u001b[0m \u001b[1;32mNone\u001b[0m\u001b[1;33m:\u001b[0m\u001b[1;33m\u001b[0m\u001b[1;33m\u001b[0m\u001b[0m\n\u001b[0;32m   1360\u001b[0m       return self._do_call(_run_fn, feeds, fetches, targets, options,\n\u001b[1;32m-> 1361\u001b[1;33m                            run_metadata)\n\u001b[0m\u001b[0;32m   1362\u001b[0m     \u001b[1;32melse\u001b[0m\u001b[1;33m:\u001b[0m\u001b[1;33m\u001b[0m\u001b[1;33m\u001b[0m\u001b[0m\n\u001b[0;32m   1363\u001b[0m       \u001b[1;32mreturn\u001b[0m \u001b[0mself\u001b[0m\u001b[1;33m.\u001b[0m\u001b[0m_do_call\u001b[0m\u001b[1;33m(\u001b[0m\u001b[0m_prun_fn\u001b[0m\u001b[1;33m,\u001b[0m \u001b[0mhandle\u001b[0m\u001b[1;33m,\u001b[0m \u001b[0mfeeds\u001b[0m\u001b[1;33m,\u001b[0m \u001b[0mfetches\u001b[0m\u001b[1;33m)\u001b[0m\u001b[1;33m\u001b[0m\u001b[1;33m\u001b[0m\u001b[0m\n",
      "\u001b[1;32m~\\Anaconda3\\envs\\tf-gpu\\lib\\site-packages\\tensorflow_core\\python\\client\\session.py\u001b[0m in \u001b[0;36m_do_call\u001b[1;34m(self, fn, *args)\u001b[0m\n\u001b[0;32m   1365\u001b[0m   \u001b[1;32mdef\u001b[0m \u001b[0m_do_call\u001b[0m\u001b[1;33m(\u001b[0m\u001b[0mself\u001b[0m\u001b[1;33m,\u001b[0m \u001b[0mfn\u001b[0m\u001b[1;33m,\u001b[0m \u001b[1;33m*\u001b[0m\u001b[0margs\u001b[0m\u001b[1;33m)\u001b[0m\u001b[1;33m:\u001b[0m\u001b[1;33m\u001b[0m\u001b[1;33m\u001b[0m\u001b[0m\n\u001b[0;32m   1366\u001b[0m     \u001b[1;32mtry\u001b[0m\u001b[1;33m:\u001b[0m\u001b[1;33m\u001b[0m\u001b[1;33m\u001b[0m\u001b[0m\n\u001b[1;32m-> 1367\u001b[1;33m       \u001b[1;32mreturn\u001b[0m \u001b[0mfn\u001b[0m\u001b[1;33m(\u001b[0m\u001b[1;33m*\u001b[0m\u001b[0margs\u001b[0m\u001b[1;33m)\u001b[0m\u001b[1;33m\u001b[0m\u001b[1;33m\u001b[0m\u001b[0m\n\u001b[0m\u001b[0;32m   1368\u001b[0m     \u001b[1;32mexcept\u001b[0m \u001b[0merrors\u001b[0m\u001b[1;33m.\u001b[0m\u001b[0mOpError\u001b[0m \u001b[1;32mas\u001b[0m \u001b[0me\u001b[0m\u001b[1;33m:\u001b[0m\u001b[1;33m\u001b[0m\u001b[1;33m\u001b[0m\u001b[0m\n\u001b[0;32m   1369\u001b[0m       \u001b[0mmessage\u001b[0m \u001b[1;33m=\u001b[0m \u001b[0mcompat\u001b[0m\u001b[1;33m.\u001b[0m\u001b[0mas_text\u001b[0m\u001b[1;33m(\u001b[0m\u001b[0me\u001b[0m\u001b[1;33m.\u001b[0m\u001b[0mmessage\u001b[0m\u001b[1;33m)\u001b[0m\u001b[1;33m\u001b[0m\u001b[1;33m\u001b[0m\u001b[0m\n",
      "\u001b[1;32m~\\Anaconda3\\envs\\tf-gpu\\lib\\site-packages\\tensorflow_core\\python\\client\\session.py\u001b[0m in \u001b[0;36m_run_fn\u001b[1;34m(feed_dict, fetch_list, target_list, options, run_metadata)\u001b[0m\n\u001b[0;32m   1348\u001b[0m     \u001b[1;32mdef\u001b[0m \u001b[0m_run_fn\u001b[0m\u001b[1;33m(\u001b[0m\u001b[0mfeed_dict\u001b[0m\u001b[1;33m,\u001b[0m \u001b[0mfetch_list\u001b[0m\u001b[1;33m,\u001b[0m \u001b[0mtarget_list\u001b[0m\u001b[1;33m,\u001b[0m \u001b[0moptions\u001b[0m\u001b[1;33m,\u001b[0m \u001b[0mrun_metadata\u001b[0m\u001b[1;33m)\u001b[0m\u001b[1;33m:\u001b[0m\u001b[1;33m\u001b[0m\u001b[1;33m\u001b[0m\u001b[0m\n\u001b[0;32m   1349\u001b[0m       \u001b[1;31m# Ensure any changes to the graph are reflected in the runtime.\u001b[0m\u001b[1;33m\u001b[0m\u001b[1;33m\u001b[0m\u001b[1;33m\u001b[0m\u001b[0m\n\u001b[1;32m-> 1350\u001b[1;33m       \u001b[0mself\u001b[0m\u001b[1;33m.\u001b[0m\u001b[0m_extend_graph\u001b[0m\u001b[1;33m(\u001b[0m\u001b[1;33m)\u001b[0m\u001b[1;33m\u001b[0m\u001b[1;33m\u001b[0m\u001b[0m\n\u001b[0m\u001b[0;32m   1351\u001b[0m       return self._call_tf_sessionrun(options, feed_dict, fetch_list,\n\u001b[0;32m   1352\u001b[0m                                       target_list, run_metadata)\n",
      "\u001b[1;32m~\\Anaconda3\\envs\\tf-gpu\\lib\\site-packages\\tensorflow_core\\python\\client\\session.py\u001b[0m in \u001b[0;36m_extend_graph\u001b[1;34m(self)\u001b[0m\n\u001b[0;32m   1388\u001b[0m   \u001b[1;32mdef\u001b[0m \u001b[0m_extend_graph\u001b[0m\u001b[1;33m(\u001b[0m\u001b[0mself\u001b[0m\u001b[1;33m)\u001b[0m\u001b[1;33m:\u001b[0m\u001b[1;33m\u001b[0m\u001b[1;33m\u001b[0m\u001b[0m\n\u001b[0;32m   1389\u001b[0m     \u001b[1;32mwith\u001b[0m \u001b[0mself\u001b[0m\u001b[1;33m.\u001b[0m\u001b[0m_graph\u001b[0m\u001b[1;33m.\u001b[0m\u001b[0m_session_run_lock\u001b[0m\u001b[1;33m(\u001b[0m\u001b[1;33m)\u001b[0m\u001b[1;33m:\u001b[0m  \u001b[1;31m# pylint: disable=protected-access\u001b[0m\u001b[1;33m\u001b[0m\u001b[1;33m\u001b[0m\u001b[0m\n\u001b[1;32m-> 1390\u001b[1;33m       \u001b[0mtf_session\u001b[0m\u001b[1;33m.\u001b[0m\u001b[0mExtendSession\u001b[0m\u001b[1;33m(\u001b[0m\u001b[0mself\u001b[0m\u001b[1;33m.\u001b[0m\u001b[0m_session\u001b[0m\u001b[1;33m)\u001b[0m\u001b[1;33m\u001b[0m\u001b[1;33m\u001b[0m\u001b[0m\n\u001b[0m\u001b[0;32m   1391\u001b[0m \u001b[1;33m\u001b[0m\u001b[0m\n\u001b[0;32m   1392\u001b[0m   \u001b[1;31m# The threshold to run garbage collection to delete dead tensors.\u001b[0m\u001b[1;33m\u001b[0m\u001b[1;33m\u001b[0m\u001b[1;33m\u001b[0m\u001b[0m\n",
      "\u001b[1;31mKeyboardInterrupt\u001b[0m: "
     ]
    }
   ],
   "source": [
    "# Data Augmentation\n",
    "max_data = 1000\n",
    "tempX = X_train\n",
    "tempY = y_train\n",
    "with tf.Session() as sess:\n",
    "    for i, img in enumerate(X_train):\n",
    "        if (IMG_MAX - train[y_train[i]])//train[y_train[i]] > 0:\n",
    "            augImgList = []\n",
    "            for j in range((IMG_MAX - train[y_train[i]])//train[y_train[i]]):\n",
    "                augImgList.append(sess.run(augmented(img)))\n",
    "                tempY = np.append(tempY, [y_train[i]], axis = 0)\n",
    "            print(tempX.shape)\n",
    "            print(np.array(augImgList).shape)\n",
    "            print()\n",
    "            tempX = np.append(tempX, np.array(augImgList), axis = 0)\n",
    "    "
   ]
  },
  {
<<<<<<< HEAD
=======
   "cell_type": "code",
   "execution_count": null,
   "metadata": {},
   "outputs": [],
   "source": [
    "# Shuffle\n",
    "X_train, y_train = shuffle(X_train, y_train)\n",
    "X_valid, y_valid = shuffle(X_valid, y_valid)\n",
    "X_test, y_test = shuffle(X_test, y_test)"
   ]
  },
  {
   "cell_type": "code",
   "execution_count": 160,
   "metadata": {},
   "outputs": [],
   "source": [
    "# For Stopping Data Augmetation Midway and correct the number of image and label\n",
    "tem = tempY\n",
    "temp = np.delete(tem, list(range(len(tem) - 4, len(tem))))\n"
   ]
  },
  {
   "cell_type": "code",
   "execution_count": 161,
   "metadata": {},
   "outputs": [],
   "source": [
    "tempX, temp = shuffle(tempX, temp)"
   ]
  },
  {
>>>>>>> improve_model
   "cell_type": "markdown",
   "metadata": {},
   "source": [
    "### Model Architecture"
   ]
  },
  {
   "cell_type": "code",
<<<<<<< HEAD
   "execution_count": 25,
=======
   "execution_count": 106,
>>>>>>> improve_model
   "metadata": {},
   "outputs": [],
   "source": [
    "### Define your architecture here.\n",
    "### Feel free to use as many code cells as needed.\n",
    "\n",
    "def LeNet(data):\n",
    "    mu = 0\n",
    "    sigma = 0.1\n",
    "    \n",
    "    #Normalize Image\n",
    "    data = (data - 128)/128\n",
    "    \n",
    "    #Layer 1 Convolution: Input 32x32x3   Output 28x28x10\n",
    "    conv1_w = tf.Variable(tf.truncated_normal(shape = (5,5,3,10), mean = mu, stddev = sigma))\n",
    "    conv1_b = tf.Variable(tf.zeros(10))\n",
    "    conv1 = tf.nn.conv2d(data, conv1_w, strides = [1,1,1,1], padding = \"VALID\") + conv1_b\n",
    "    \n",
<<<<<<< HEAD
    "    #Layer 1 Drop Out\n",
    "    conv1 = tf.nn.dropout(conv1, 0.5)\n",
    "    \n",
=======
>>>>>>> improve_model
    "    #Layer 1 ReLu\n",
    "    conv1 = tf.nn.relu(conv1)\n",
    "    \n",
    "    #Layer 1 Pooling: Input 28x28x10   Output 14x14x10\n",
    "    conv1 = tf.nn.max_pool2d(conv1, ksize = [1,2,2,1], strides = [1,2,2,1], padding = \"VALID\")\n",
    "    \n",
    "    #Layer 2 Convolution: Input 14x14x10   Output 10x10x16\n",
    "    conv2_w = tf.Variable(tf.truncated_normal(shape = (5,5,10,16), mean = mu, stddev = sigma))\n",
    "    conv2_b = tf.Variable(tf.zeros(16))\n",
    "    conv2 = tf.nn.conv2d(conv1, conv2_w, strides = [1,1,1,1], padding = \"VALID\") + conv2_b\n",
    "    \n",
<<<<<<< HEAD
    "    #Layer 2 Drop Out\n",
    "    conv2 = tf.nn.dropout(conv2, 0.5)\n",
    "    \n",
=======
>>>>>>> improve_model
    "    #Layer 2 ReLu\n",
    "    conv2 = tf.nn.relu(conv2)\n",
    "    \n",
    "    #Layer 2 Pooling: Input 10x10x16   Output 5x5x16\n",
    "    conv2 = tf.nn.max_pool2d(conv2, ksize = [1,2,2,1], strides = [1,2,2,1], padding = \"VALID\")\n",
    "    \n",
    "    \n",
    "    #Flatten: Output 400x1\n",
    "    fc0 = tf.compat.v1.layers.Flatten()(conv2)\n",
    "    \n",
    "    #Layer 3 Fully Connected: Input 400. Output 120\n",
    "    fc1_w = tf.Variable(tf.truncated_normal(shape = (400, 120), mean = mu, stddev = sigma))\n",
    "    fc1_b = tf.Variable(tf.zeros(120))\n",
    "    fc1 = tf.matmul(fc0, fc1_w) + fc1_b\n",
    "    \n",
    "    fc1 = tf.nn.relu(fc1)\n",
    "    \n",
    "    #Layer 4 Fully Connected: Input 120. Output 84\n",
    "    fc2_w = tf.Variable(tf.truncated_normal(shape = (120, 84), mean = mu, stddev = sigma))\n",
    "    fc2_b = tf.Variable(tf.zeros(84))\n",
    "    fc2 = tf.matmul(fc1, fc2_w) + fc2_b\n",
    "    \n",
    "    fc2 = tf.nn.relu(fc2)\n",
    "    \n",
    "    #Layer 5 Fully Connected: Input 84. Output 43\n",
    "    fc3_w = tf.Variable(tf.truncated_normal(shape = (84, 43), mean = mu, stddev = sigma))\n",
    "    fc3_b = tf.Variable(tf.zeros(43))\n",
    "    logits = tf.matmul(fc2, fc3_w) + fc3_b\n",
    "    \n",
    "    return logits"
   ]
  },
  {
   "cell_type": "markdown",
   "metadata": {},
   "source": [
    "### Train, Validate and Test the Model"
   ]
  },
  {
   "cell_type": "markdown",
   "metadata": {},
   "source": [
    "A validation set can be used to assess how well the model is performing. A low accuracy on the training and validation\n",
    "sets imply underfitting. A high accuracy on the training set but low accuracy on the validation set implies overfitting."
   ]
  },
  {
   "cell_type": "code",
   "execution_count": null,
   "metadata": {},
   "outputs": [],
   "source": [
    "### Train your model here.\n",
    "### Calculate and report the accuracy on the training and validation set.\n",
    "### Once a final model architecture is selected, \n",
    "### the accuracy on the test set should be calculated and reported as well.\n",
    "### Feel free to use as many code cells as needed.\n"
   ]
  },
  {
   "cell_type": "code",
<<<<<<< HEAD
   "execution_count": 27,
=======
   "execution_count": 115,
>>>>>>> improve_model
   "metadata": {},
   "outputs": [
    {
     "name": "stdout",
     "output_type": "stream",
     "text": [
      "WARNING:tensorflow:From <ipython-input-25-903985079b21>:17: calling dropout (from tensorflow.python.ops.nn_ops) with keep_prob is deprecated and will be removed in a future version.\n",
      "Instructions for updating:\n",
      "Please use `rate` instead of `keep_prob`. Rate should be set to `rate = 1 - keep_prob`.\n"
     ]
    }
   ],
   "source": [
    "EPOCHS = 50\n",
    "BATCH_SIZE = 128\n",
    "rate = 0.001\n",
    "\n",
    "x = tf.placeholder(tf.float32, (None, 32,32,3))\n",
    "y = tf.placeholder(tf.int32,(None))\n",
    "one_hot_y = tf.one_hot(y,43)\n",
    "\n",
    "logits = LeNet(x)\n",
    "cross_entropy = tf.nn.softmax_cross_entropy_with_logits(labels=one_hot_y, logits=logits)\n",
    "loss_operation = tf.reduce_mean(cross_entropy)\n",
    "optimizer = tf.train.AdamOptimizer(learning_rate = rate)\n",
    "training_operation = optimizer.minimize(loss_operation)"
   ]
  },
  {
   "cell_type": "code",
<<<<<<< HEAD
   "execution_count": 28,
=======
   "execution_count": 116,
>>>>>>> improve_model
   "metadata": {},
   "outputs": [],
   "source": [
    "correct_prediction = tf.equal(tf.argmax(logits, 1), tf.argmax(one_hot_y, 1))\n",
    "accuracy_operation = tf.reduce_mean(tf.cast(correct_prediction, tf.float32))\n",
    "saver = tf.train.Saver()\n",
    "\n",
    "def evaluate(X_data, y_data):\n",
    "    num_examples = len(X_data)\n",
    "    total_accuracy = 0\n",
    "    sess = tf.get_default_session()\n",
    "    for offset in range(0, num_examples, BATCH_SIZE):\n",
    "        batch_x, batch_y = X_data[offset:offset+BATCH_SIZE], y_data[offset:offset+BATCH_SIZE]\n",
    "        accuracy = sess.run(accuracy_operation, feed_dict={x: batch_x, y: batch_y})\n",
    "        total_accuracy += (accuracy * len(batch_x))\n",
    "    return total_accuracy / num_examples"
   ]
  },
  {
   "cell_type": "code",
<<<<<<< HEAD
   "execution_count": 26,
=======
   "execution_count": 113,
>>>>>>> improve_model
   "metadata": {},
   "outputs": [],
   "source": [
    "tf.reset_default_graph()"
   ]
  },
  {
   "cell_type": "code",
<<<<<<< HEAD
   "execution_count": 23,
   "metadata": {},
   "outputs": [
    {
     "data": {
      "image/png": "iVBORw0KGgoAAAANSUhEUgAAAXQAAAD4CAYAAAD8Zh1EAAAABHNCSVQICAgIfAhkiAAAAAlwSFlzAAALEgAACxIB0t1+/AAAADh0RVh0U29mdHdhcmUAbWF0cGxvdGxpYiB2ZXJzaW9uMy4yLjEsIGh0dHA6Ly9tYXRwbG90bGliLm9yZy+j8jraAAAgAElEQVR4nO3deXgUVfbw8e8hhh1lCSKyq4i4IEJARxDBFZQRUVRwx9cf477OKKMzg/s+biOKODLjKIqIoqioKIOCyhYQERAHVISYQGJkM2xZzvvHSSAknaST9JLuPp/n6ae7q25XnWrI6Vu37r0lqopzzrnYVyfaATjnnAsNT+jOORcnPKE751yc8ITunHNxwhO6c87FiX2iteOUlBTt2LFjtHbvnHMxadGiRb+oastA66KW0Dt27EhaWlq0du+cczFJRH4qb503uTjnXJzwhO6cc3HCE7pzzsUJT+jOORcnPKE751ycqDShi8gEEckSkWXlrBcReVpEVovIUhHpEfownXPOVSaYGvq/gYEVrB8EdC56jAKeq3lYzjnnqqrSfuiqOltEOlZQZAjwH7V5eOeJSFMRaa2qmSGK0bmw+vZbeOst2Lmz7Lq6deHKK+GAA6q/fVWYNw9mzICCgupvpyYaN4YLLoAOHSovu2kTTJkCbdrA6adDnUqqfarw3//C7Nn2urQGDeC88+CQQ6oXO0B+Prz7LmzZAsOGQaNGlX/mu+/gzTdhx47q7zdc+vaF004Lw4ZVtdIH0BFYVs6694C+Jd7PBFLLKTsKSAPS2rdvr85FS16e6ltvqZ58sqqlIVWRsg9QPeUU1cLCqu9j2zbVCRNUe/SoeB+ReIBqnTqqQ4aozpgR+Hi+/lp11CjVhg33xHvwwap//7vqr7+WLb95s+o//qF62GGVf4egOmiQ6nvvqRYUBP8drl+veu+9qm3a7NnOfvup3nST6v/+V7Z8fr7q22+rnnpq9L/zih6jRwf/HZQGpGl5ubq8FapBJ/T3AyT0npVts2fPntU/IueqKStL9YEHVNu1s//97drZ+6yswOX/8Q8rN2VK8Pv44QfVP/1JtXlz++wRR6g+95zq1q2hOYbq+Okn1TvuUG3Z0mLq0kX1qadUs7NVJ01SPeEEW16/vuoVV6guWKD62muqffrY8gYNVK+8UvWrr1SXL1e95hrVxo1tXe/eqi+9pLp9e+B9Z2So3nWXauvWVv6gg1Qfe0w1Jydw+cJC1S+/VL3wQtXkZPvMqaeqvvOO6pw5qiNGqO6zjy0//XTVadMs8T/4oGqHDra8bVvV++6z5fGmooQuGsQdi4qaXN5T1SMDrHse+FRVXyt6/x3QXytpcklNTVUf+h/b1qyByy6D1aujHUnwsrMhLw9OPhmuuw4GD4Z9Kmh4zM+Hnj1h40ZYuRIaNqx4+3/7G9x3nzVTDB1q++jXD0RCexzVtXMnvPEGPPMMzJ+/Z3mnTnDNNXDFFdC8+d6fWbIExo6FiRNh+3ZbVrcuDB8O114LvXsHt++8PJg61fY9Zw7UqwctWgQul50N++4Ll19ucXXpsneZzEx44QV4/nnIyNizfMAA+87POqvif9dYJiKLVDU14LoQJPQzgeuAM4BjgadVtdJ/Yk/ose3LL+Hss+2P79xza0/Cqkzz5pYkunYN/jNz5lhSvvNOS9blee01uPBCuOgieOghaNu2xuGGVVqaXTvo0wcGDoSkpIrLb9wI//mP/Ztfdhm0DDg9VHCWLrVtbd4ceH3PnnDxxdb2X5G8PHj7bfj6axgxAo44ovoxxYoaJXQReQ3oD6QAG4AxQDKAqo4TEQGewXrCbANGqmqlmTpREvratfafsnStJxJ++glWrAi8rksXOOig6m134kSrybVvD++9V7b2FI8uuQQmT4blywNf3Fu6FI47DlJTYeZMSE6OfIwuMdS4hh4OiZLQDznETivnzq28t0Ao5eVB586W1AOpX99q2cccE/w2CwutSeH++6F/f+sJEeiUOR5lZtoPV79+9iNW0q+/Qq9e1pti0aKa9YhxrjIVJXQfKRpGmZnw/fewYAH861+R3ferr1oyf+456zJX8vHZZ5CSYm28v/wS3Pa2bbNub/ffb934PvoocZI5QOvWcNdd8P77eyf0ggJrYlm3zrrIeTJ3UVXe1dJwPxKhl8vUqXbF/cADVVNSAnf9Cof8fOvF0K1b+d3t5s9XrVvXuuTl5VW8vfR01Z49rbvV3/9evS588WDXLtWuXa2XRnGPjjvusH/j55+PbmwucVBBLxevoYfRvHl2pf2tt+y0/K9/jcx+337bBlXccUf5Fyt797ba+yef2MW+8ixebGVXroR33oFbbomdC6ChlpxsPTR++AEefdR6bDzwgJ2xjBoV7eicw2vo4dS/v2pqqr2+7job2PHVV5V/rrIac0UKC20gyyGHWE29MlddZTXMyZPLrnvzTet/3L69DTpx5vzzrb9248bWB3vHjmhH5BIJXkOPvIICWLgQjj3W3t9zj7U5X3dd4OHRALt2WU2veXOr/VXHjBlWqx49uvJuaABPPQW/+x2MHAnLiqZfU4UHH7TuiEcfbdcAunWrXjzx6LHH7AJ3w4bWbl6vXrQjcs54Qg+T5cshN9e6sgE0a2Z9k7/4Al55pWz5nByb2+GFFyzxn3MOPPxw+cm/PA8+aHNwXHJJcOXr1rXeKk2a2EXSDRusn/Ydd1i/3lmzoFWrqsUQ79q1g08/tX/L2t7X3CWY8qru4X7Ee5PL+PHWlFFyvomCAjtFb9XK5sEo9u231kRSt67qK6/YHCDDh9vnL7ss+FP6zz+3zzzxRNXjnTPHhlM3amTbuOeexL346Vxthje5RN68edZ0UnIQSp06dlEtKwvuvtuWffKJ1eK3bLFa30UX2ex0r75q3eReeglOOSW47oUPPmi1+//7v6rH27evDe9OTobXX7cLuIl68dO5WOUJPUzmz7f289JJsVcv6xXx1FPWu2TgQDuFX7DA2rKLicCYMTBpkg3R7t27/FGfYPNtvP8+3HRTcFOLBjJqlPXGOf/86n3eORddntDDYMsWS77FF0RLe+ABm3jogQcsoX/5ZfnzVF9wgdXct22zhD9mDPz8c9lyDz1k7eDXXluz2L1W7lzs8oQeBgsX2sXM4guipaWkWJPKI49Y3+4mTSre3rHH2jb79YN777Xkf/75NuJTFVatshn0rrnGLr465xJTnE4wGV3F05JWNK3owIH2CFa7dnbHlh9+sAFBL75oSfzIIy2J160LN99cs7idc7HNa+hhMG8eHHpoeGrLBx1koxTT0y2pJyfb9K5XXundC51LdF5DDzFVq6FXpfZdHQ0b2hS2I0faPTEPPji8+3PO1X6e0EPsp5+sW2J5F0RDTQQOPzwy+3LO1W7e5BJi8+bZc6QSunPOFfOEXkWVDcWfP99uHuFznzjnIs0TehXMm2cXJRcurLhMz55+CzLnXOR5Qq+CMWPsTvdXX22zKZa2axd89VX5/c+dcy6cPKEHKS3NpqY94QS7b+SLL5Yt8/XXsHOnt58756IjqIQuIgNF5DsRWS0iowOsbyYiU0VkqYgsEJEjQx9qdD34IOy3nw3uOfFE+POfbcrbkvyCqHMumipN6CKSBIwFBgGHAyNEpHRHuTuAJaraDbgUeCrUgUbTihV2G7nrr7ek/o9/wObNZW8pN3++3Uy4XbvoxOmcS2zB1NB7A6tV9QdV3QVMAoaUKnM4MBNAVVcCHUUkbsYtPvywDeS58UZ7f9RRduehcePs7kDF5s0LPMOic85FQjAJvQ2wrsT79KJlJX0NnAMgIr2BDkCZe7mIyCgRSRORtOzs7OpFHGFr1sDEiTbHeErKnuV33QUtW1piLyy0+cq//94viDrnoieYhB6ovlm6N/ZDQDMRWQJcD3wF5Jf5kOp4VU1V1dSWLVtWOdhoKL5/5K237r28aVOruc+dCy+/bPOZg7efO+eiJ5ih/+lAyVbhtkBGyQKqugUYCSAiAvxY9Ihp69fDP/8Jl14auF380kth/Hi47TYYPtwSf2pq5ON0zjkIroa+EOgsIp1EpC4wHJhWsoCINC1aB3AlMLsoyce0J5+EvDy4/fbA64tvKZedbRdKjzwSGjeObIzOOVes0oSuqvnAdcBHwLfAZFVdLiJXichVRcW6AstFZCXWG+bGcAUcKRs3wrPPwnnnQefO5Zfr0QP+8AebEsCbW5xz0RTUbIuqOh2YXmrZuBKv5wIVpL3YM3YsbN1q/c0rc999Ntho2LDwx+Wcc+Xx6XMDyM21mzifeSYcfXTl5Vu02HNR1DnnosWH/gfw3HPWDfGOO6IdiXPOBc8TeimZmXDPPTBoEBx/fLSjcc654HlCL+X2222CrafiavIC51wi8IRewuef2yChP/6x4p4tzjlXG3lCL5Kfb8P427XztnPnXGzyXi5Fnn/e5jN/4w1o1Cja0TjnXNV5DR0b6fmXv8DJJ8O550Y7Guecqx5P6Njgod9+s+H7PvWtcy5WJXxCX7DAbid3003QtWu0o3HOuepL6IReUADXXmt3Gfrb36IdjXPO1UxCXxSdMMFu/jxxIjRpEu1onHOuZhK6hv7889CzJ4wYEe1InHOu5hI2oefk2P1AhwzxC6HOufiQsAl91iybw/yUU6IdiXPOhUbCJvRPPrF28169oh2Jc86FRsIm9JkzoX9/2CehLws75+JJQib0NWtg9WpvbnHOxZeETOgzZ9rzySdHNw7nnAulhE3oBxwAhx8e7Uiccy50gkroIjJQRL4TkdUiMjrA+v1E5F0R+VpElovIyNCHGhqFhXZB9JRTvLuicy6+VJrQRSQJGAsMAg4HRohI6brttcAKVT0a6A/8XUTqhjjWkFi2zGZX9OYW51y8CaaG3htYrao/qOouYBIwpFQZBZqIiACNgV+B/JBGGiLefu6ci6rcXNixIyybDiahtwHWlXifXrSspGeArkAG8A1wo6oWlt6QiIwSkTQRScvOzq5myDXzySfQpYvdmcg55yKmsNAmjurSBR59NCy7CCahB2pp1lLvTweWAAcC3YFnRGTfMh9SHa+qqaqa2rJlyyoHW1O7dsFnn3nt3MWw/Hy49VZ7bNsW7Whi186d9v1p6VRWifx82LgRfvrJ2m+//BLmzrXkUpF58+D44+Hii21615NOqn7sFQhmWE06ULI+2xariZc0EnhIVRVYLSI/AocBC0ISZYjMn29nO97/3MWknTvhoovgzTft/YcfwmuvQbdu0Y0rlqxfb7Xj556D7dutZ0TDhnbfyeLnOnUgL8+SdMnn7dvtEci++8Lpp8PgwTBoEBRXWNetg9Gj4dVXLZH/+99wySW2jzAIJqEvBDqLSCfgZ2A4cGGpMmuBk4E5ItIK6AL8EMpAQ2HmTPse+/ePdiTOVVFuLpxzDsyYAU8+aX1uL70UeveGRx6B669P3G5ba9fC7NnQvbt9L4GSZWamfU/jxlmCvugiOOII+15zc622Xvy6sBDq1oXk5L2f69WzxL3vvjZvSJMm9jo3135c33/fbkosAsceaz+0L79sZwF/+Qvcfjs0bhze70JVK30AZwD/A74H7ixadhVwVdHrA4EZWPv5MuDiyrbZs2dPjbQ+fVR79Yr4bp2rmU2b7D9vnTqqL764Z3lWlurgwaqgesYZqhs2hG6fS5eqbtwYuu2FQ26u6pgxqvXr23cAqk2b2nfxwAOqn32m+sMPqjfeaGWSklQvv1x11arwxFNQoJqWpnr33ZZoRFQvuEB1zZqQ7gZI0/JydXkrwv2IdELfskV1n31U//zniO7WJZpvvlF95ZXQJcOsLNVjjlFNTladPLns+sJC1WeeUa1XT7VVK9WXX1b9+mvbf2Fh1fe3caPq//2fpYaePVW3bav6Nn77TXXRIvse7rxTddQo1Tlzqr6d8hQWqr7+umr79hbnBReozp+v+u9/q155pWrXrnsSPFgiHzlSdfXq0MUQjPz8sGzWE7qqvveeHe3MmRHdrUsks2erNmli/9Hq1lX9/e8twW7eXL3tpaerHnaYaoMGqh98UHHZb75RPfLIvRNZkyaqhx+uOnCg6nXXqX76qdUiyzN1qmrr1nYmMGKEbePSS4P7Yfjvf20/xUm2ZDJt1Mhe9+9vf4AVba+w0GrV33yjum6d6tate5dfskT1xBNte0cfbbXwQH75RXXaNNVHHol8Ig8zT+iqetNNdta1fXtEd1s7FRRYkqlODS4eLVumetFFqg8+qLpyZfW28dFHlni7dLHke8stqm3b2p9YvXqqQ4dacv/uu4qT6saNVhMfOVI1JcWS8uzZwcWwc6fq3Ln2+cceU73hBttvz557kmrHjqp//evezQ6ZmarDhu1Jkmlptvzuu23ZU09VvN/337djbN/evsd771WdMkV1+XLVHTusxv7EE/ZjAaq/+53q9Ol7/v/9+KPqhAmql1yi2q7d3j8IYKfWKSmqhxxiPzYtWqiOGxe2GnBtV1FCF1sfeampqZqWlhax/R11lM3f8vHHEdtl7fPbb3aV/ckn4fvv7ap+mzZ7Pw49FC68EBo0CE8MubkWR6tWNduOKjzxhF2AuvDC6m9v0SI47bS9ezAcfjgMHWqPHj0qv9j49ttwwQXQtatdtNx/f1teWGhd2iZPtotlmZm2vHFjOPpou4h3zDFw0EFW7oMP7LmgAJo2tbj+/GcrV1O5uRbnSy/ZYAxV6NPHegg8+6xdFBwzBv74R7sIWBz/uefCu+/aH86AAWW3++67MGwYHHmklWnevPwYduyAf/0LHnrILmQedRRs3WrTnwKkpFg8AwbY602b9jw2brTnDh3s4mKzZjX/TmKUiCxS1dSAK8vL9OF+RLKGnplpP/QPPRSxXdYu69ap3nabXTAqriE98IDqzTernn++XXDr2NGaCcBqSa+8UnFNsqo2bbKaW/PmVsu6+27VvLzqb++vf937tP7MM61dtSqnYHPmqO67r2qHDnZavnat6tNPqw4YYNsEq3X+6U/WLh3IxIlW9thjVX/9tfx95eerLl5sNdHrr1ft21e1ceO9a6I9elib8+ef1+y7qcy6dXY2cthhtt++fcs/M9m82cqlpJS9uDd1qrXt9+pV8bGXtnOnXdzt3Vv17LPtDGDp0tD+f4tjJHqTy8SJdqQLF0Zsl7XDN9+oXnihnbLWqaN63nmqX35ZfvmCAtVZsyyxgP2hBjrdz8+3ZHjLLfbHfsIJlqznzy97GvzLL6p/+YvqfvvZNgcP3tM+27dv9XoAPPWUff7//T87rR89WrVNG93dy+EPf7Cmh4qalD7+WLVhQ9VDD7VEXlp2tiXfM8+07w9UjzpK9eGHLSGqqo4fbz0Z+ve3q+5VVVCg+r//WZNFZmbVP19ThYV2LJUl0pUr7YevR489F0nfeMO+l+OOsx9rFzEJn9BHjlRt1izBmtw+/NDadJs0scT744/Bf7agQPU//9mTJM85xxLnBx9Yj4X999fdF/5OO83aaItrmc2bW63/n/+0mm1x2+2551oNtdgrr1hs++1nNetgvfKKbW/o0L1rsfn5lqQvvtgSNah262Y9QEonnHfesdiPOkp1/frK95mdrTp2rJ3ZgCXxXr3s9aBB1esJEmvefdeO++KLVSdNsrOS44+v/gVfV20JndAXL7Ycc+65Edld7fD663Yq3L17cAmrPLm5qvfcsycpg70+/3zV117b+485K0v11Vetn++BB1rZOnXsDGHZssDb//57q+GB/epu3VpxPNOnW61wwICKm1a2bFF9/vk9ZxoNG6pecYWdQbz2miWj3r1Vc3Kq/p2sWmXNRYcdZse2c2fVtxGr7rlnz/+DE06o3lmJq7GETehTp9rfctu2VsFMCMXNAH37hu5UOCPDLkC8+25wbdSFhfaFB3NWsGuXtYfXqaN60EGq991nTUWlm0u++MLOOHr0qFqtcOFC65tcXGsH1X79PBlVR0GB/fCedZb1XHFRUVFCj8teLqo2XcPo0dCrl13cb906LLuqXR5+2A560CCYMsV6scSK2bPhtttswh2wnh9nnQVDhliPjwEDbH6Mzz/f04ukKrZssZnuVq+Ge++Nre/GuRIq6uUSdwl91y74wx+sd94FF1gvqXD1wIuILVusa92CBbBihXXb6tbNHgcfDElJ9gs2erTNVTF8uHVNq1sr7y9SucxM6wo3bZp1r9u505YfeCB88QV07BjV8JyLtoRJ6L/8YvMXzZljXWrHjKnl8xWpWp/s0n1t09Nh4UJL4t9+u2eKz9atYcMG6x8M9kt15JHWr3nWLLjqKnjmGUvy8SA31/p1Fx+b3wTWucRI6Dt2WKV17VqrnQ8fHrJNh95XX1mNeuZMG0QSSMuWNpNe7942c1tqKrRoYYNfVqyAb76BpUvt8b//wRVXxMAvmHOupipK6MFMnxsTVq2yx4sv1uJkvnatTaP5yis20u2mm2z4atOm9mjWzJ733x/atg2cnBs0gJ497eGccyXETULfsMGeDzkkunEEtGkTPPggPPWUvb/tNquhN20a3bicc3ElbhJ6VpY913SKkJDasMHafx55xNrHL74Y7rsP2rePdmTOuTgUNwm9uIZenR5tIZWXZ5MsTZhgdzDJz7d73j3yiE3E5JxzYRI3CT0ryyaJi1orxsqV1oD/8sv269KqlbWRjxzpvTOccxERNwl9wwarnUe8k0dmJtx5pzWtJCXZTWJHjrTBPcXTkDrnXATETULPyopw+/mOHTYf9wMP2OCXW2+1uaRrVSO+cy6RxE1CL66hh52qDau/7TabmP/ss22egVrZvcY5l0jqBFNIRAaKyHcislpERgdY/ycRWVL0WCYiBSJSwa1LQq+42TpsNm60/uP9+sH558O++9rAoKlTPZk752qFSmvoIpIEjAVOBdKBhSIyTVVXFJdR1UeBR4vK/x64WVV/DU/IZamGqcklM9Nm9po61Yaf5+fbbdrGj7eRmfEyxN45FxeCaXLpDaxW1R8ARGQSMARYUU75EcBroQkvOFu2WDN2yJpcFi2C66+3+zsCdO4Mt9xiE8X06gV1gjqxcc65iAomobcB1pV4nw4cG6igiDQEBgLXlbN+FDAKoH0IB9eEdFDRrl02AGjTJptmdehQ63boc6Q452q5YBJ6oExW3oxevwe+KK+5RVXHA+PBJucKKsIghHRQ0RNPWJ/y996DM88MwQadcy4ygmk7SAfalXjfFsgop+xwItzcAiGsoa9bB/fcYzdV8GTunIsxwST0hUBnEekkInWxpD2tdCER2Q84EXgntCFWLmQ19FtusbnGn3yyxjE551ykVdrkoqr5InId8BGQBExQ1eUiclXR+nFFRYcCM1Q1N2zRlmPDBmvibtmyBhuZMcP6l997r98VxzkXk+LiBhfXXANvvAHZ2dXcwM6ddneMwkJYtgzq1QtJXM45F2pxf4OLGo8Sffxxu+vPBx94MnfOxay46FBdo0FFa9daM8s558DAgSGNyznnIikuEnqNaug332zPTzwRsniccy4a4qLJpdo19A8/hLfeshkT/S5CzrkYF/M19B07YPPmatTQVeGOO2xirVtuCUtszjkXSTFfQy/u2VLlGvrcufDVV/Dcc34h1DkXF2K+hl48qKjKCX3sWJsC9+KLQx6Tc85FQ9wk9Co1uaxfbx3XR46Exo3DEpdzzkVazCf0as3j8sILkJdnI5Kccy5OxHxCr3INPS8Pnn8eTjsNDj00bHE551ykxfxF0awsazVp2DDID7zzDvz8Mzz7bFjjcs65SIuLGnqV2s/HjoUOHXx6XOdc3In5hF6lQUXLlsGnn1rbud8P1DkXZ2I+oVephv7ss9bn/IorwhqTc85FQ1wk9KBq6Js3w3/+AyNGQEpK2ONyzrlIi+mEXlAAv/wSZEJ/6SXIzYVrrw17XM45Fw0xndBzcuyeFJU2uRQW2sXQY4+F1IDzwjvnXMyL6W6LQQ8qmjnTbmDx8sthj8k556IlpmvoQQ8qGjvWbjh63nlhj8k556IlphN6UDX0rVvh/ffh0kt9VkXnXFwLKqGLyEAR+U5EVovI6HLK9BeRJSKyXEQ+C22YgQVVQ//0U8jP94FEzrm4V2kbuogkAWOBU4F0YKGITFPVFSXKNAWeBQaq6loRqcktm4O2YQMkJ0OzZhUUmjHD5gU4/vhIhOScc1ETTA29N7BaVX9Q1V3AJGBIqTIXAm+p6loAVc0KbZiBZWVZ7VykgkIffQT9+3tzi3Mu7gWT0NsA60q8Ty9aVtKhQDMR+VREFonIpYE2JCKjRCRNRNKyi281VAOVjhL98UdYtQpOP73G+3LOudoumIQeqP6rpd7vA/QEzgROB/4qImXmplXV8aqaqqqpLVu2rHKwpVU6j8vHH9vzaafVeF/OOVfbBZPQ04F2Jd63BTIClPlQVXNV9RdgNnB0aEIsX6U19I8+gnbtoEuXcIfinHNRF0xCXwh0FpFOIlIXGA5MK1XmHeAEEdlHRBoCxwLfhjbUvalWUkPPz7cBRaefXkkju3POxYdKe7moar6IXAd8BCQBE1R1uYhcVbR+nKp+KyIfAkuBQuCfqrosnIFv3Qo7dlRQQ1+wwCbk8uYW51yCCGrov6pOB6aXWjau1PtHgUdDF1rFKh1UNGMG1KkDJ58cqZCccy6qYnakaPGgogoTeq9e0Lx5xGJyzrloivmEHrDJZeNGmD/fm1uccwklZhN6hU0u//2vTZnrCd05l0BiNqEX19AD3nxoxgzYd1+b/9w55xJEzCb0rCxo0cLmctmLqvU/P+mkACudcy5+xWxCL3dQ0apV8NNP3tzinEs4MZvQyx1UNGOGPfv8Lc65BBOzCb3cGvpHH8HBB8NBB0U8Jueci6aYTuhlaui7dsGsWd7c4pxLSDGZ0HfutFH9ZRL6l19Cbq43tzjnElJMJvTiPuhlmlxmzICkJBgwIOIxOedctMV0Qi9TQ58xA373O+uD7pxzCSYmE3rAYf+//gqLF3v7uXMuYcVkQg9YQ//xRxtUdNRRUYnJOeeiLSYTesAaemamPbduHfF4nHOuNojJhJ6VBY0a2WM3T+jOuQQXkwk9YB/04oR+wAERj8c552qDmE3oZbosZmTYbF1160YlJueci7aYTCJDMY8AAA71SURBVOgB53HJzIQDD4xKPM45VxvEZEIPWEPPzPT2c+dcQgsqoYvIQBH5TkRWi8joAOv7i8hmEVlS9Phb6EM1hYWQnV1ODd0TunMuge1TWQERSQLGAqcC6cBCEZmmqitKFZ2jqoPDEONecnIsqe9VQy8shPXrPaE75xJaMDX03sBqVf1BVXcBk4Ah4Q2rfAEHFeXkQH6+J3TnXEILJqG3AdaVeJ9etKy034nI1yLygYgcEWhDIjJKRNJEJC07O7sa4e4ZVLRXQs/IsGe/KOqcS2DBJHQJsExLvV8MdFDVo4F/AG8H2pCqjlfVVFVNbdmyZdUiLeKjRJ1zLrBgEno60K7E+7ZARskCqrpFVX8rej0dSBaRlJBFWcJZZ8GKFXZTot08oTvnXFAJfSHQWUQ6iUhdYDgwrWQBETlARKTode+i7eaEOliw4f5du5YaP+QJ3TnnKu/loqr5InId8BGQBExQ1eUiclXR+nHAMOBqEckHtgPDVbV0s0z4ZGbCfvtBgwYR26VzztU2lSZ02N2MMr3UsnElXj8DPBPa0KogI8MviDrnEl5MjhQtwwcVOeecJ3TnnIsXsZ/QVT2hO+cc8ZDQN22CnTs9oTvnEl7sJ3QfJeqcc0A8JHTvg+6cc4AndOecixue0J1zLk7ER0Jv1AiaNIl2JM45F1XxkdD9gqhzzsVBQs/I8OYW55wjHhK6DypyzjnAE7pzzsWN2E7oW7dCbq4ndOecI9YTenGXRb8o6pxzMZ7Qi4f9ew3dOediPKH7oCLnnNvNE7pzzsWJ2E/o9epB06bRjsQ556IuqHuK1lrFo0RFoh2JcwkvLy+P9PR0duzYEe1Q4kL9+vVp27YtycnJQX8mqIQuIgOBp4Ak4J+q+lA55XoB84ALVHVK0FFUl48Sda7WSE9Pp0mTJnTs2BHxSlaNqCo5OTmkp6fTqVOnoD9XaZOLiCQBY4FBwOHACBE5vJxyDwMfBb33mvJBRc7VGjt27KBFixaezENARGjRokWVz3aCaUPvDaxW1R9UdRcwCRgSoNz1wJtAVpUiqAlP6M7VKp7MQ6c632UwCb0NsK7E+/SiZSV33AYYCoyraEMiMkpE0kQkLTs7u6qx7m37dti82RO6c84VCSahB/qZ0FLvnwRuV9WCijakquNVNVVVU1u2bBlsjIH5KFHnXAmbNm3i2WefrfLnzjjjDDZt2lRhmb/97W988skn1Q0tYoK5KJoOtCvxvi2QUapMKjCp6BQhBThDRPJV9e2QRBmIjxJ1zpVQnNCvueaavZYXFBSQlJRU7uemT59e6bbvueeeGscXCcEk9IVAZxHpBPwMDAcuLFlAVXdfhhWRfwPvhTWZgw8qcq4Wu+kmWLIktNvs3h2efLL89aNHj+b777+ne/fuJCcn07hxY1q3bs2SJUtYsWIFZ599NuvWrWPHjh3ceOONjBo1CoCOHTuSlpbGb7/9xqBBg+jbty9ffvklbdq04Z133qFBgwZcfvnlDB48mGHDhtGxY0cuu+wy3n33XfLy8njjjTc47LDDyM7O5sILLyQnJ4devXrx4YcfsmjRIlJSUkL7RVSg0iYXVc0HrsN6r3wLTFbV5SJylYhcFe4Ay+UJ3TlXwkMPPcTBBx/MkiVLePTRR1mwYAH3338/K1asAGDChAksWrSItLQ0nn76aXJycspsY9WqVVx77bUsX76cpk2b8uabbwbcV0pKCosXL+bqq6/mscceA+Duu+/mpJNOYvHixQwdOpS1a9eG72DLEVQ/dFWdDkwvtSzgBVBVvbzmYQUhMxP22QdatIjI7pxzwauoJh0pvXv33qsP99NPP83UqVMBWLduHatWraJFqfzRqVMnunfvDkDPnj1Zs2ZNwG2fc845u8u89dZbAHz++ee7tz9w4ECaNWsW0uMJRuyOFC3uslgntmcvcM6FR6NGjXa//vTTT/nkk0+YO3cuDRs2pH///gH7eNerV2/366SkJLZv3x5w28XlkpKSyM/PB2wwULTFbjb0PujOuRKaNGnC1q1bA67bvHkzzZo1o2HDhqxcuZJ58+aFfP99+/Zl8uTJAMyYMYONGzeGfB+Vid0aekYGHHxwtKNwztUSLVq0oE+fPhx55JE0aNCAVq1a7V43cOBAxo0bR7du3ejSpQvHHXdcyPc/ZswYRowYweuvv86JJ55I69atadKkScj3UxGJ1mlCamqqpqWlVX8DKSlw3nnw3HOhC8o5V23ffvstXbt2jXYYUbNz506SkpLYZ599mDt3LldffTVLatjVJ9B3KiKLVDU1UPnYrKHv2gU5Od7k4pyrNdauXcv5559PYWEhdevW5YUXXoh4DLGZ0Nevt2cfJeqcqyU6d+7MV199FdUYYvOiqPdBd865MmIzofuwf+ecKyM2E7rX0J1zrozYTeh16sD++0c7EuecqzViN6G3agUVzKDmnHMVady4MQAZGRkMGzYsYJn+/ftTWffqJ598km3btu1+H8x0vOESuwndm1uccyFw4IEHMmVK9W+BXDqhT58+naZNm4YitCqLzW6LGRnQpk3l5Zxz0RGF+XNvv/12OnTosHs+9LvuugsRYfbs2WzcuJG8vDzuu+8+hgzZ+w6aa9asYfDgwSxbtozt27czcuRIVqxYQdeuXfeay+Xqq69m4cKFbN++nWHDhnH33Xfz9NNPk5GRwYABA0hJSWHWrFm7p+NNSUnh8ccfZ8KECQBceeWV3HTTTaxZs6bcaXprymvozrm4MHz4cF5//fXd7ydPnszIkSOZOnUqixcvZtasWdx6660VTqL13HPP0bBhQ5YuXcqdd97JokWLdq+7//77SUtLY+nSpXz22WcsXbqUG264gQMPPJBZs2Yxa9asvba1aNEi/vWvfzF//nzmzZvHCy+8sLuferDT9FZV7NXQ8/MhK8sTunO1WRTmzz3mmGPIysoiIyOD7OxsmjVrRuvWrbn55puZPXs2derU4eeff2bDhg0ccMABAbcxe/ZsbrjhBgC6detGt27ddq+bPHky48ePJz8/n8zMTFasWLHX+tI+//xzhg4dunvWx3POOYc5c+Zw1llnBT1Nb1XFXkLPygJVHyXqnCtj2LBhTJkyhfXr1zN8+HAmTpxIdnY2ixYtIjk5mY4dOwacNrekoltp7uXHH3/kscceY+HChTRr1ozLL7+80u1UdCYQ7DS9VRV7TS7eB905V47hw4czadIkpkyZwrBhw9i8eTP7778/ycnJzJo1i59++qnCz/fr14+JEycCsGzZMpYuXQrAli1baNSoEfvttx8bNmzggw8+2P2Z8qbt7devH2+//Tbbtm0jNzeXqVOncsIJJ4TwaMuKvRq6J3TnXDmOOOIItm7dSps2bWjdujUXXXQRv//970lNTaV79+4cdthhFX7+6quvZuTIkXTr1o3u3bvTu3dvAI4++miOOeYYjjjiCA466CD69Omz+zOjRo1i0KBBtG7deq929B49enD55Zfv3saVV17JMcccE7LmlUBib/rcL76Axx+HsWOhnHYw51zkJfr0ueEQ/9Pn9uljD+ecc3sJqg1dRAaKyHcislpERgdYP0RElorIEhFJE5G+oQ/VOedcRSqtoYtIEjAWOBVIBxaKyDRVXVGi2ExgmqqqiHQDJgMVN1Y55+KOqgbsJeKqrjrN4cHU0HsDq1X1B1XdBUwC9hpqpaq/6Z69NwKif/tr51xE1a9fn5ycnGolIrc3VSUnJ4f69etX6XPBtKG3AdaVeJ8OHFu6kIgMBR4E9gfODLQhERkFjAJo3759lQJ1ztVubdu2JT09nezs7GiHEhfq169P27Ztq/SZYBJ6oPOnMj/BqjoVmCoi/YB7gVMClBkPjAfr5VKlSJ1ztVpycjKdOnWKdhgJLZgml3SgXYn3bYGM8gqr6mzgYBFJqWFszjnnqiCYhL4Q6CwinUSkLjAcmFaygIgcIkVXQkSkB1AXyAl1sM4558pXaZOLquaLyHXAR0ASMEFVl4vIVUXrxwHnApeKSB6wHbhA/cqIc85FVNRGiopINlDxxArlSwF+CWE4sSRRj92PO7H4cZevg6q2DLQiagm9JkQkrbyhr/EuUY/djzux+HFXT+zNtuiccy4gT+jOORcnYjWhj492AFGUqMfux51Y/LirISbb0J1zzpUVqzV055xzpXhCd865OBFzCb2yudnjhYhMEJEsEVlWYllzEflYRFYVPTeLZozhICLtRGSWiHwrIstF5Mai5XF97CJSX0QWiMjXRcd9d9HyuD7uYiKSJCJfich7Re/j/rhFZI2IfFN8H4miZTU67phK6CXmZh8EHA6MEJHDoxtV2PwbGFhq2Whgpqp2xuagj8cftHzgVlXtChwHXFv0bxzvx74TOElVjwa6AwNF5Dji/7iL3Qh8W+J9ohz3AFXtXqLveY2OO6YSOkHMzR4viiY5+7XU4iHAS0WvXwLOjmhQEaCqmaq6uOj1VuyPvA1xfuxqfit6m1z0UOL8uAFEpC025fY/SyyO++MuR42OO9YSeqC52dtEKZZoaKWqmWCJD5t7Pm6JSEfgGGA+CXDsRc0OS4As4GNVTYjjBp4EbgMKSyxLhONWYIaILCq6VwTU8Lhj7SbRQc3N7mKfiDQG3gRuUtUtiXBbM1UtALqLSFPs3gJHRjumcBORwUCWqi4Skf7RjifC+qhqhojsD3wsIitrusFYq6FXaW72OLRBRFoDFD1nRTmesBCRZCyZT1TVt4oWJ8SxA6jqJuBT7BpKvB93H+AsEVmDNaGeJCKvEP/HjapmFD1nAVOxJuUaHXesJfRK52aPc9OAy4peXwa8E8VYwqJoXv0XgW9V9fESq+L62EWkZVHNHBFpgN3xayVxftyq+mdVbauqHbG/5/+q6sXE+XGLSCMRaVL8GjgNWEYNjzvmRoqKyBlYm1vx3Oz3RzmksBCR14D+2HSaG4AxwNvAZKA9sBY4T1VLXziNaSLSF5gDfMOeNtU7sHb0uD12EemGXQRLwipak1X1HhFpQRwfd0lFTS5/VNXB8X7cInIQVisHa/p+VVXvr+lxx1xCd845F1isNbk455wrhyd055yLE57QnXMuTnhCd865OOEJ3Tnn4oQndOecixOe0J1zLk78f/+nzyGb7B0gAAAAAElFTkSuQmCC\n",
      "text/plain": [
       "<Figure size 432x288 with 1 Axes>"
      ]
     },
     "metadata": {
      "needs_background": "light"
     },
     "output_type": "display_data"
    }
   ],
   "source": [
    "plt.plot(training_data, color = \"blue\", label=\"training\")\n",
    "plt.plot(validation_data, color = \"red\", label=\"validation\")\n",
    "plt.legend()\n",
    "plt.show()\n",
    "# plt.savefig('output_images/LeNet_accuracy.png')"
   ]
  },
  {
   "cell_type": "code",
   "execution_count": 30,
   "metadata": {},
   "outputs": [
    {
     "data": {
      "image/png": "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\n",
      "text/plain": [
       "<Figure size 432x288 with 1 Axes>"
      ]
     },
     "metadata": {
      "needs_background": "light"
     },
     "output_type": "display_data"
    }
   ],
   "source": [
    "plt.plot(training_data, color = \"blue\", label=\"training\")\n",
    "plt.plot(validation_data, color = \"red\", label=\"validation\")\n",
    "plt.legend()\n",
    "plt.show()"
   ]
  },
  {
   "cell_type": "code",
   "execution_count": 29,
=======
   "execution_count": 162,
>>>>>>> improve_model
   "metadata": {},
   "outputs": [
    {
     "name": "stdout",
     "output_type": "stream",
     "text": [
      "Training...\n",
      "\n",
      "\n",
      "EPOCH 1 ...\n",
<<<<<<< HEAD
      "Training Accuracy = 0.387\n",
      "Validation Accuracy = 0.273\n",
      "\n",
      "\n",
      "EPOCH 2 ...\n",
      "Training Accuracy = 0.631\n",
      "Validation Accuracy = 0.483\n",
      "\n",
      "\n",
      "EPOCH 3 ...\n",
      "Training Accuracy = 0.676\n",
      "Validation Accuracy = 0.560\n",
      "\n",
      "\n",
      "EPOCH 4 ...\n",
      "Training Accuracy = 0.802\n",
      "Validation Accuracy = 0.590\n",
      "\n",
      "\n",
      "EPOCH 5 ...\n",
      "Training Accuracy = 0.811\n",
      "Validation Accuracy = 0.632\n",
      "\n",
      "\n",
      "EPOCH 6 ...\n",
      "Training Accuracy = 0.865\n",
      "Validation Accuracy = 0.651\n",
      "\n",
      "\n",
      "EPOCH 7 ...\n",
      "Training Accuracy = 0.856\n",
      "Validation Accuracy = 0.661\n",
      "\n",
      "\n",
      "EPOCH 8 ...\n",
      "Training Accuracy = 0.865\n",
      "Validation Accuracy = 0.668\n",
      "\n",
      "\n",
      "EPOCH 9 ...\n",
      "Training Accuracy = 0.856\n",
      "Validation Accuracy = 0.685\n",
      "\n",
      "\n",
      "EPOCH 10 ...\n",
      "Training Accuracy = 0.820\n",
      "Validation Accuracy = 0.685\n",
      "\n",
      "\n",
      "EPOCH 11 ...\n",
      "Training Accuracy = 0.910\n",
      "Validation Accuracy = 0.681\n",
      "\n",
      "\n",
      "EPOCH 12 ...\n",
      "Training Accuracy = 0.901\n",
      "Validation Accuracy = 0.699\n",
      "\n",
      "\n",
      "EPOCH 13 ...\n",
      "Training Accuracy = 0.901\n",
      "Validation Accuracy = 0.720\n",
      "\n",
      "\n",
      "EPOCH 14 ...\n",
      "Training Accuracy = 0.820\n",
      "Validation Accuracy = 0.696\n",
      "\n",
      "\n",
      "EPOCH 15 ...\n",
      "Training Accuracy = 0.964\n",
      "Validation Accuracy = 0.712\n",
      "\n",
      "\n",
      "EPOCH 16 ...\n",
      "Training Accuracy = 0.919\n",
      "Validation Accuracy = 0.712\n",
      "\n",
      "\n",
      "EPOCH 17 ...\n",
      "Training Accuracy = 0.919\n",
      "Validation Accuracy = 0.672\n",
      "\n",
      "\n",
      "EPOCH 18 ...\n",
      "Training Accuracy = 0.910\n",
      "Validation Accuracy = 0.707\n",
      "\n",
      "\n",
      "EPOCH 19 ...\n",
      "Training Accuracy = 0.901\n",
      "Validation Accuracy = 0.723\n",
      "\n",
      "\n",
      "EPOCH 20 ...\n",
      "Training Accuracy = 0.883\n",
      "Validation Accuracy = 0.727\n",
      "\n",
      "\n",
      "EPOCH 21 ...\n",
      "Training Accuracy = 0.901\n",
      "Validation Accuracy = 0.725\n",
      "\n",
      "\n",
      "EPOCH 22 ...\n",
      "Training Accuracy = 0.964\n",
      "Validation Accuracy = 0.724\n",
      "\n",
      "\n",
      "EPOCH 23 ...\n",
      "Training Accuracy = 0.910\n",
      "Validation Accuracy = 0.711\n",
      "\n",
      "\n",
      "EPOCH 24 ...\n",
      "Training Accuracy = 0.901\n",
      "Validation Accuracy = 0.719\n",
      "\n",
      "\n",
      "EPOCH 25 ...\n",
      "Training Accuracy = 0.910\n",
      "Validation Accuracy = 0.734\n",
      "\n",
      "\n",
      "EPOCH 26 ...\n",
      "Training Accuracy = 0.928\n",
      "Validation Accuracy = 0.734\n",
      "\n",
      "\n",
      "EPOCH 27 ...\n",
      "Training Accuracy = 0.919\n",
      "Validation Accuracy = 0.720\n",
      "\n",
      "\n",
      "EPOCH 28 ...\n",
      "Training Accuracy = 0.928\n",
      "Validation Accuracy = 0.724\n",
      "\n",
      "\n",
      "EPOCH 29 ...\n",
      "Training Accuracy = 0.946\n",
      "Validation Accuracy = 0.716\n",
      "\n",
      "\n",
      "EPOCH 30 ...\n",
      "Training Accuracy = 0.937\n",
      "Validation Accuracy = 0.724\n",
      "\n",
      "\n",
      "EPOCH 31 ...\n",
      "Training Accuracy = 0.928\n",
      "Validation Accuracy = 0.715\n",
      "\n",
      "\n",
      "EPOCH 32 ...\n",
      "Training Accuracy = 0.919\n",
      "Validation Accuracy = 0.740\n",
      "\n",
      "\n",
      "EPOCH 33 ...\n",
      "Training Accuracy = 0.946\n",
      "Validation Accuracy = 0.723\n",
      "\n",
      "\n",
      "EPOCH 34 ...\n",
      "Training Accuracy = 0.955\n",
      "Validation Accuracy = 0.724\n",
      "\n",
      "\n",
      "EPOCH 35 ...\n",
      "Training Accuracy = 0.955\n",
      "Validation Accuracy = 0.732\n",
      "\n",
      "\n",
      "EPOCH 36 ...\n",
      "Training Accuracy = 0.946\n",
      "Validation Accuracy = 0.737\n",
      "\n",
      "\n",
      "EPOCH 37 ...\n",
      "Training Accuracy = 0.928\n",
      "Validation Accuracy = 0.743\n",
      "\n",
      "\n",
      "EPOCH 38 ...\n",
      "Training Accuracy = 0.919\n",
      "Validation Accuracy = 0.731\n",
      "\n",
      "\n",
      "EPOCH 39 ...\n",
      "Training Accuracy = 0.919\n",
      "Validation Accuracy = 0.743\n",
      "\n",
      "\n",
      "EPOCH 40 ...\n",
      "Training Accuracy = 0.946\n",
      "Validation Accuracy = 0.741\n",
      "\n",
      "\n",
      "EPOCH 41 ...\n",
      "Training Accuracy = 0.964\n",
      "Validation Accuracy = 0.734\n",
      "\n",
      "\n",
      "EPOCH 42 ...\n",
      "Training Accuracy = 0.955\n",
      "Validation Accuracy = 0.739\n",
      "\n",
      "\n",
      "EPOCH 43 ...\n",
      "Training Accuracy = 0.946\n",
      "Validation Accuracy = 0.751\n",
      "\n",
      "\n",
      "EPOCH 44 ...\n",
      "Training Accuracy = 0.955\n",
      "Validation Accuracy = 0.744\n",
      "\n",
      "\n",
      "EPOCH 45 ...\n",
      "Training Accuracy = 0.928\n",
      "Validation Accuracy = 0.751\n",
      "\n",
      "\n",
      "EPOCH 46 ...\n",
      "Training Accuracy = 0.955\n",
      "Validation Accuracy = 0.737\n",
      "\n",
      "\n",
      "EPOCH 47 ...\n",
      "Training Accuracy = 0.955\n",
      "Validation Accuracy = 0.738\n",
      "\n",
      "\n",
      "EPOCH 48 ...\n",
      "Training Accuracy = 0.955\n",
      "Validation Accuracy = 0.729\n",
      "\n",
      "\n",
      "EPOCH 49 ...\n",
      "Training Accuracy = 0.928\n",
      "Validation Accuracy = 0.719\n",
      "\n",
      "\n",
      "EPOCH 50 ...\n",
      "Training Accuracy = 0.910\n",
      "Validation Accuracy = 0.742\n",
=======
      "Training Accuracy = 0.835\n",
      "Validation Accuracy = 0.748\n",
      "\n",
      "\n",
      "EPOCH 2 ...\n",
      "Training Accuracy = 0.961\n",
      "Validation Accuracy = 0.827\n",
      "\n",
      "\n",
      "EPOCH 3 ...\n",
      "Training Accuracy = 0.981\n",
      "Validation Accuracy = 0.872\n",
      "\n",
      "\n",
      "EPOCH 4 ...\n",
      "Training Accuracy = 0.990\n",
      "Validation Accuracy = 0.860\n",
      "\n",
      "\n",
      "EPOCH 5 ...\n",
      "Training Accuracy = 1.000\n",
      "Validation Accuracy = 0.899\n",
      "\n",
      "\n",
      "EPOCH 6 ...\n",
      "Training Accuracy = 0.981\n",
      "Validation Accuracy = 0.893\n",
      "\n",
      "\n",
      "EPOCH 7 ...\n",
      "Training Accuracy = 0.981\n",
      "Validation Accuracy = 0.885\n",
      "\n",
      "\n",
      "EPOCH 8 ...\n",
      "Training Accuracy = 1.000\n",
      "Validation Accuracy = 0.900\n",
      "\n",
      "\n",
      "EPOCH 9 ...\n",
      "Training Accuracy = 1.000\n",
      "Validation Accuracy = 0.911\n",
      "\n",
      "\n",
      "EPOCH 10 ...\n",
      "Training Accuracy = 0.990\n",
      "Validation Accuracy = 0.918\n",
      "\n",
      "\n",
      "EPOCH 11 ...\n",
      "Training Accuracy = 0.990\n",
      "Validation Accuracy = 0.920\n",
      "\n",
      "\n",
      "EPOCH 12 ...\n",
      "Training Accuracy = 1.000\n",
      "Validation Accuracy = 0.924\n",
      "\n",
      "\n",
      "EPOCH 13 ...\n",
      "Training Accuracy = 1.000\n",
      "Validation Accuracy = 0.919\n",
      "\n",
      "\n",
      "EPOCH 14 ...\n",
      "Training Accuracy = 1.000\n",
      "Validation Accuracy = 0.908\n",
      "\n",
      "\n",
      "EPOCH 15 ...\n",
      "Training Accuracy = 1.000\n",
      "Validation Accuracy = 0.908\n",
      "\n",
      "\n",
      "EPOCH 16 ...\n",
      "Training Accuracy = 1.000\n",
      "Validation Accuracy = 0.905\n",
      "\n",
      "\n",
      "EPOCH 17 ...\n",
      "Training Accuracy = 0.990\n",
      "Validation Accuracy = 0.909\n",
      "\n",
      "\n",
      "EPOCH 18 ...\n",
      "Training Accuracy = 1.000\n",
      "Validation Accuracy = 0.904\n",
      "\n",
      "\n",
      "EPOCH 19 ...\n",
      "Training Accuracy = 1.000\n",
      "Validation Accuracy = 0.932\n",
      "\n",
      "\n",
      "EPOCH 20 ...\n",
      "Training Accuracy = 1.000\n",
      "Validation Accuracy = 0.922\n",
      "\n",
      "\n",
      "EPOCH 21 ...\n",
      "Training Accuracy = 1.000\n",
      "Validation Accuracy = 0.919\n",
      "\n",
      "\n",
      "EPOCH 22 ...\n",
      "Training Accuracy = 0.990\n",
      "Validation Accuracy = 0.928\n",
      "\n",
      "\n",
      "EPOCH 23 ...\n",
      "Training Accuracy = 1.000\n",
      "Validation Accuracy = 0.920\n",
      "\n",
      "\n",
      "EPOCH 24 ...\n",
      "Training Accuracy = 1.000\n",
      "Validation Accuracy = 0.936\n",
      "\n",
      "\n",
      "EPOCH 25 ...\n",
      "Training Accuracy = 1.000\n",
      "Validation Accuracy = 0.935\n",
      "\n",
      "\n",
      "EPOCH 26 ...\n",
      "Training Accuracy = 1.000\n",
      "Validation Accuracy = 0.933\n",
      "\n",
      "\n",
      "EPOCH 27 ...\n",
      "Training Accuracy = 1.000\n",
      "Validation Accuracy = 0.941\n",
      "\n",
      "\n",
      "EPOCH 28 ...\n",
      "Training Accuracy = 1.000\n",
      "Validation Accuracy = 0.933\n",
      "\n",
      "\n",
      "EPOCH 29 ...\n",
      "Training Accuracy = 1.000\n",
      "Validation Accuracy = 0.920\n",
      "\n",
      "\n",
      "EPOCH 30 ...\n",
      "Training Accuracy = 1.000\n",
      "Validation Accuracy = 0.932\n",
      "\n",
      "\n",
      "EPOCH 31 ...\n",
      "Training Accuracy = 1.000\n",
      "Validation Accuracy = 0.939\n",
      "\n",
      "\n",
      "EPOCH 32 ...\n",
      "Training Accuracy = 1.000\n",
      "Validation Accuracy = 0.938\n",
      "\n",
      "\n",
      "EPOCH 33 ...\n",
      "Training Accuracy = 1.000\n",
      "Validation Accuracy = 0.938\n",
      "\n",
      "\n",
      "EPOCH 34 ...\n",
      "Training Accuracy = 1.000\n",
      "Validation Accuracy = 0.941\n",
      "\n",
      "\n",
      "EPOCH 35 ...\n",
      "Training Accuracy = 1.000\n",
      "Validation Accuracy = 0.939\n",
      "\n",
      "\n",
      "EPOCH 36 ...\n",
      "Training Accuracy = 1.000\n",
      "Validation Accuracy = 0.937\n",
      "\n",
      "\n",
      "EPOCH 37 ...\n",
      "Training Accuracy = 1.000\n",
      "Validation Accuracy = 0.938\n",
      "\n",
      "\n",
      "EPOCH 38 ...\n",
      "Training Accuracy = 1.000\n",
      "Validation Accuracy = 0.939\n",
      "\n",
      "\n",
      "EPOCH 39 ...\n",
      "Training Accuracy = 1.000\n",
      "Validation Accuracy = 0.937\n",
      "\n",
      "\n",
      "EPOCH 40 ...\n",
      "Training Accuracy = 1.000\n",
      "Validation Accuracy = 0.939\n",
      "\n",
      "\n",
      "EPOCH 41 ...\n",
      "Training Accuracy = 1.000\n",
      "Validation Accuracy = 0.939\n",
      "\n",
      "\n",
      "EPOCH 42 ...\n",
      "Training Accuracy = 0.981\n",
      "Validation Accuracy = 0.922\n",
      "\n",
      "\n",
      "EPOCH 43 ...\n",
      "Training Accuracy = 1.000\n",
      "Validation Accuracy = 0.939\n",
      "\n",
      "\n",
      "EPOCH 44 ...\n",
      "Training Accuracy = 1.000\n",
      "Validation Accuracy = 0.931\n",
      "\n",
      "\n",
      "EPOCH 45 ...\n",
      "Training Accuracy = 1.000\n",
      "Validation Accuracy = 0.940\n",
      "\n",
      "\n",
      "EPOCH 46 ...\n",
      "Training Accuracy = 1.000\n",
      "Validation Accuracy = 0.929\n",
      "\n",
      "\n",
      "EPOCH 47 ...\n",
      "Training Accuracy = 1.000\n",
      "Validation Accuracy = 0.932\n",
      "\n",
      "\n",
      "EPOCH 48 ...\n",
      "Training Accuracy = 1.000\n",
      "Validation Accuracy = 0.933\n",
      "\n",
      "\n",
      "EPOCH 49 ...\n",
      "Training Accuracy = 1.000\n",
      "Validation Accuracy = 0.937\n",
      "\n",
      "\n",
      "EPOCH 50 ...\n",
      "Training Accuracy = 1.000\n",
      "Validation Accuracy = 0.941\n",
>>>>>>> improve_model
      "\n",
      "Model saved\n"
     ]
    }
   ],
   "source": [
    "with tf.Session() as sess:\n",
    "    sess.run(tf.global_variables_initializer())\n",
<<<<<<< HEAD
    "    num_examples = n_train\n",
=======
    "#     num_examples = n_train\n",
    "    num_examples = tempX.shape[0]\n",
>>>>>>> improve_model
    "    training_data = []\n",
    "    validation_data = []\n",
    "    print(\"Training...\")\n",
    "    print()\n",
    "    for i in range(EPOCHS):\n",
    "#         X_train, y_train = shuffle(X_train, y_train)\n",
    "        tempX, temp = shuffle(tempX, temp)\n",
    "        for offset in range(0, num_examples, BATCH_SIZE):\n",
    "            end = offset + BATCH_SIZE\n",
    "#             batch_x, batch_y = X_train[offset:end], y_train[offset:end]\n",
    "            batch_x, batch_y = tempX[offset:end], temp[offset:end]\n",
    "            sess.run(training_operation, feed_dict={x: batch_x, y: batch_y})\n",
    "            \n",
<<<<<<< HEAD
    "#             print(\"Training Accuracy = {:.3f}\".format(training_accuracy))\n",
    "            \n",
=======
>>>>>>> improve_model
    "        print()\n",
    "        training_accuracy = evaluate(batch_x, batch_y)\n",
    "        training_data.append(training_accuracy)\n",
    "        validation_accuracy = evaluate(X_valid, y_valid)\n",
    "        validation_data.append(validation_accuracy)\n",
    "        print(\"EPOCH {} ...\".format(i+1))\n",
    "        print(\"Training Accuracy = {:.3f}\".format(training_accuracy))\n",
    "        print(\"Validation Accuracy = {:.3f}\".format(validation_accuracy))\n",
    "        print()\n",
    "        \n",
    "    saver.save(sess, './lenet3')\n",
    "    print(\"Model saved\")"
   ]
  },
  {
   "cell_type": "code",
   "execution_count": 163,
   "metadata": {},
   "outputs": [
    {
     "name": "stdout",
     "output_type": "stream",
     "text": [
      "INFO:tensorflow:Restoring parameters from ./lenet3\n",
      "Test Accuracy = 0.930\n"
     ]
    }
   ],
   "source": [
    "with tf.Session() as sess:\n",
    "    saver.restore(sess, './lenet3')\n",
    "    accuracy = evaluate(X_test, y_test)\n",
    "    print(\"Test Accuracy = {:.3f}\".format(accuracy))"
   ]
  },
  {
   "cell_type": "code",
   "execution_count": null,
   "metadata": {},
   "outputs": [],
   "source": [
    "plt.plot(training_data, color = \"blue\", label=\"training\")\n",
    "plt.plot(validation_data, color = \"red\", label=\"validation\")\n",
    "plt.legend()\n",
    "plt.ylabel(\"Accuracy\")\n",
    "plt.xlabel(\"EPOCHS\")\n",
    "plt.savefig('output_images/LeNet_accuracy.png')"
   ]
  },
  {
   "cell_type": "markdown",
   "metadata": {},
   "source": [
    "---\n",
    "\n",
    "## Step 3: Test a Model on New Images\n",
    "\n",
    "To give yourself more insight into how your model is working, download at least five pictures of German traffic signs from the web and use your model to predict the traffic sign type.\n",
    "\n",
    "You may find `signnames.csv` useful as it contains mappings from the class id (integer) to the actual sign name."
   ]
  },
  {
   "cell_type": "markdown",
   "metadata": {},
   "source": [
    "### Load and Output the Images"
   ]
  },
  {
   "cell_type": "code",
   "execution_count": 110,
   "metadata": {},
   "outputs": [
    {
     "name": "stdout",
     "output_type": "stream",
     "text": [
      "Column names are ClassId, SignName\n",
      "Processed 44 lines.\n"
     ]
    }
   ],
   "source": [
    "import csv\n",
    "\n",
    "trafficSign = {}\n",
    "\n",
    "with open('signnames.csv') as csv_file:\n",
    "    csv_reader = csv.DictReader(csv_file)\n",
    "    line_count = 0\n",
    "    for row in csv_reader:\n",
    "        if line_count == 0:\n",
    "            print(f'Column names are {\", \".join(row)}')\n",
    "            line_count += 1\n",
    "        trafficSign[int(row[\"ClassId\"])] = row[\"SignName\"]\n",
    "        line_count += 1\n",
    "    print(f'Processed {line_count} lines.')"
   ]
  },
  {
   "cell_type": "code",
   "execution_count": 111,
   "metadata": {},
   "outputs": [
    {
     "data": {
      "image/png": "iVBORw0KGgoAAAANSUhEUgAAAPsAAAEHCAYAAABoVTBwAAAABHNCSVQICAgIfAhkiAAAAAlwSFlzAAALEgAACxIB0t1+/AAAADh0RVh0U29mdHdhcmUAbWF0cGxvdGxpYiB2ZXJzaW9uMy4yLjEsIGh0dHA6Ly9tYXRwbG90bGliLm9yZy+j8jraAAAc0klEQVR4nO2de5BcdZXHv6d7XnmbyYvJY8kDQoAIAYcIojGoi6BYwG6JokICxKCCCrJrUVC1srVVLouLFLISnUAgkbciym6hKwtiVBAykJCnKG8CIeEh5D0z3X32j3uzO8TfOT1zu6c74ff9VE3NzO/cc+9vft2nb8/v2+ccUVUQQt795Oo9AUJIbWCwExIJDHZCIoHBTkgkMNgJiQQGOyGR0FCJs4icBOBaAHkAN6jqld7xQ4a3auvYCeFzZZtAFq9s18pIximWO6tjs6TUWv7V+z41F5zdC4YfmyxzfHPLS9j+9hvBE2YOdhHJA/g+gL8FsBHAChG5V1XXWz6tYyfgG1fdE7TlcvabDDEixvcxTciLvYzWtXxbtnmINw8nOL05wjyn9yYu47UcrM9vlDKHWb668xiAaFe118r7OIsa6190fKz5X33RiaZPJW/jZwN4WlWfVdVuAHcAOLWC8xFCBpBKgn0CgJd6/b4xHSOE7INUEuyh9x5/9eZCRBaKSKeIdO54+80KLkcIqYRKgn0jgEm9fp8I4JW9D1LVDlVtV9X2ISNaK7gcIaQSKgn2FQAOFpEpItIE4LMA7q3OtAgh1SbzbryqFkTkQgD/jWSrdImqrvOdgJK5DVoy3axd91LJ8XF2kUveBrO7e26N2/PwL2Vbc856eLu+9va/t/3s2KqsHVo7z+X97PVw/Yw/LWuyp58l6u3GOzbTp//zUOexrEhnV9X7ANxXyTkIIbWBn6AjJBIY7IREAoOdkEhgsBMSCQx2QiKhot34/qN2YoKrrISNXiKMd7qSK3nZmF6ORiI5J8nEVXGyaUO2tFXbPC/nr850vpL7iDrnzPBn2/JwdjwZrWTKaNnOZ8E7OyGRwGAnJBIY7IREAoOdkEhgsBMSCTXdjVcARWPbPefsWqNkvSY5CShOAoe3i+8lOqhxTq+8lJt145gKTuKEuIkr4TXJWl4qa8ZItb1KYj9muZz9NNZiTz+v5OMntDjzd23hc3oKlfk8df4w3tkJiQQGOyGRwGAnJBIY7IREAoOdkEhgsBMSCbVNhFGnQ4cjM0jO8snW2cWT19wuM9b5HL1DvCQZt7OLbfKwrpdVesss2VktjbRoeuQamm1bYatp69q2y/YbPDo4LlowfeDIfOrm4ziyreOm5vO4uvX/eGcnJBIY7IREAoOdkEhgsBMSCQx2QiKBwU5IJFQkvYnI8wC2ASgCKKhqu3e8QlEqhaUXceQO8/qOi9tayZNWvDZUppzUf5/E5vwBWfsTVbldk5et5T1m1uPc0DjI9Gnq3mLanvnDnaatYGS2AcBBHzonON6dH2n6lHp2mzZI3jS5j5gnExuZdN7zypZ7B6j9U8oJqvp6Fc5DCBlA+DaekEioNNgVwK9E5HERWViNCRFCBoZK38Yfr6qviMhYAPeLyB9VdXnvA9IXgYUAMGJ0W4WXI4RkpaI7u6q+kn7fAuAeALMDx3Soaruqtg8ZZm+KEEIGlszBLiJDRGTYnp8BnAhgbbUmRgipLpW8jR8H4J40K6oBwG2q+styTiVDZvCKKGoxLOPkvdcqr36lJ5WpIyeZJvtiXr1JL/sua0acmXiVUcrz2leVinbmWM6Q2JoLr5k+zz58m2k7d8EC09bV3WXabvnR0uD41A+cbZ+vcZRpK3TtMG3IObKcV5PUkOW850cWMge7qj4L4MgqzoUQMoBQeiMkEhjshEQCg52QSGCwExIJDHZCIqG2vd4UKBiVJfNebzbDVCx6vd683mCmCW7/uAwFAD0JLWu9SW8eXvHLTBQcmbKpxbQNKoZzo5555HbTZ9654Qw1AJg4caJp89bjrLPCEtuym282fSYfe4ZpKzXb8/BkOZHqhlqW3Ebe2QmJBAY7IZHAYCckEhjshEQCg52QSKhx+ydFqWC0/3ESLtTYPs87Pu40nHpgJS85xcpqybrjbrS1Koe/w28kGnntsJzeW7lGb8f9DdP2tJHUMn++veM+dfIU09ZdsJNurHp3ADBt6tTg+IKFXzR9lixebNrajj7VtDUMP8i09ezYZtrMYopG0piL85TinZ2QSGCwExIJDHZCIoHBTkgkMNgJiQQGOyGRUNtEGNiJMF4rpJyhJ7htlxxZy6sLl0XWymWV3jxpJeMcrQuKs1biyGstRkILADz3h7tM27z584Lj06bZ8lrReWCe2rDOtDW3DDZtU6eG5bDx4+2y5udf+FXT9sPrrzNto6afYNoaxh5l2rq2bw2O5/J2TTv7CWI/73lnJyQSGOyERAKDnZBIYLATEgkMdkIigcFOSCSUld5EZAmAUwBsUdWZ6VgrgDsBTAbwPIAzVPUv5c6lAIpWqxtHMihZ0pvYclLe0a585ar/0pu61/Js9mutW4POeYlWCWeASUO4HRMADC+9bdo2Pv4T0zbvnLC8BgAHTZsWHPfktbVr1pu2wrMnm7ZdMty0PVX4RXD8kOmTTZ9R7xlh2r729UtM27XXXGXaWrvsFlXNE98fHN+51X5c8g3hJ4GXR9mXO/vNAE7aa+xSAA+o6sEAHkh/J4Tsw5QN9rTf+pt7DZ8KYE/HvKUATqvyvAghVSbr/+zjVHUTAKTfx1ZvSoSQgWDAN+hEZKGIdIpI565tZf+tJ4QMEFmDfbOItAFA+n2LdaCqdqhqu6q2Dxo2MuPlCCGVkjXY7wWwZyt2HoCfV2c6hJCBoi/S2+0A5gIYLSIbAXwLwJUA7hKR8wC8CODTfbqaAlbHJnUKPebUKCjoFVH0NAixjfkMbaM82VCcophuJprTo0qcgpmSD2ewDUU4swoAXlphZ6+dPe8s02bJawBQ0vD8V69eY/oUnzvFtL3/KDv7Dk5m3vKVYclufeFnps9hh80wbYMH24/ZN755uWn74XXXmLZSMSzLNU78kOmzfftb4XM5T/yywa6qZxqmj5bzJYTsO/ATdIREAoOdkEhgsBMSCQx2QiKBwU5IJNS44KSiZPUV8/q2WXKdI5PZAgkgbkMs21OtApFuUUnH5kiHOaf/mjQ2m7YRsj04/spjd5g+Xzj7C6bt4IPs/mXOFLFubbhAZOEFW1479uiX7Wvtcooviv00nnP0s8HxR5480fR5sude03bkUe+z5+FkD15w8T+atsVGEcvuF3abPoP/5mPB8VzOXife2QmJBAY7IZHAYCckEhjshEQCg52QSGCwExIJNZXeoECxGM5gUyNLCgBKVo81p5+beFl0XnFLpyBizpAH3cKRbjs3I5sPgDTaBSJHyi7TtumJO4PjXzjr86bPjEMONW0FJ8Nu/boNpm33858Mjh97pCOvddmykeSctXLWUXvC5zzuiFdNnxVrP2XaVnbfZtpmHTPXtJV2h7PUAODLX704OL5k8fWmz1t/CmeVq3Md3tkJiQQGOyGRwGAnJBIY7IREAoOdkEioeSJMj7Ebn/PqsRm73XknEyPnbIOXvLpwXj6OsTEtRsulZB5efbpG0zZct5m2zU/cbdrmGTXjZsw4zPQxHhIAwPr1T5m2Lqdm3LFHbAxfq9t+yuWkYNq8dlge1k59qcde+2OO2GzaVq2xd+pXPGInG7XP/rhp290Vrg+44EsXmj5Lb/hBcLzBUah4ZyckEhjshEQCg52QSGCwExIJDHZCIoHBTkgkiNd2CQBEZAmAUwBsUdWZ6dgVAL4I4LX0sMtU9b5yFxszaYae/o2OoM2TyqxWSHlHkPHOl3NaK3namxjXy+XtNVRnjsNb7Hn0PG23z/vcmXa3rRmHhCW2np5u0+ep9eF6cQDQ/YItNR3jJJNodzgBxUtocfGKClb5fMWiLcvlh9h+j3f2mLbtY35h2o45bm5wfNvbdlLL2AMOCJ+rvR2dnZ3BJ11f7uw3AzgpMH6Nqs5Kv8oGOiGkvpQNdlVdDuDNGsyFEDKAVPI/+4UislpElogIG68Tso+TNdgXAZgGYBaATQCutg4UkYUi0ikinbt32P+DEEIGlkzBrqqbVbWoqiUAiwHMdo7tUNV2VW1vGfKerPMkhFRIpmAXkbZev54OYG11pkMIGSjKZr2JyO0A5gIYLSIbAXwLwFwRmQVAATwP4Py+XU5RKoY1D/WkMkPZsroxAb70BifDzpPlrHZNuaKTYee1f1Jbqhk22JZ/Dhg30bQVCuFzeq2mPPG16Pa2chyz5Kn5KnBV8RTnfKM9911v2xLmVrUz2w6cYmcddu3aGRwfPmKE6bNq5crg+M6d4XMBfQh2VT0zMHxjOT9CyL4FP0FHSCQw2AmJBAY7IZHAYCckEhjshERCbQtOOu2frNZKiV9YJ3F9vOw1T4ZyNBnLz2pPBfgS4Fvdg03bpPHHmbaORdeYtvkLvhIcH93aavoc/t73mbY1uf8xbb9faRecPH7Wc8FxLdhPOYFdcDIrlsoqDc2mT9euLtO2fIP9N0+fc7tpGzXCzvZramoJjq93shGX3PDD4Pjrr78WHAd4ZyckGhjshEQCg52QSGCwExIJDHZCIoHBTkgk1FR6A9SUtpy2bcgZaW8lJ6XMk9c8m1uMMguOPFjs2WXaXpIxpm3ihA+Yths7vh8cP3fBBabP6NF2nYH3Hj7dtG1otIsoLl/5yeD4nCOfMX20mE2W8zLYpCGcPbjbkdceWmfLa4edcItpGznczmJsbLRl1nXrwhniN3QsMn1app8WHJfmB00f3tkJiQQGOyGRwGAnJBIY7IREAoOdkEio8W68n2hiUTK26r1EGA+3PF2mOmi2k6cYePMvdNu1xF4WuwZd26QPBseXLA7v0gPA/AVfMm1jx4wybYdOn2bankJ4p375qlNNnzmzNpg2LYTbSQGA5G3b7u5wzbjfrLd33A8/4TbTNmK4rQo0NXk77k5Sy+JwUkvLwfZaFYdODhtyTaYP7+yERAKDnZBIYLATEgkMdkIigcFOSCQw2AmJhL60f5oEYBmAAwCUAHSo6rUi0grgTgCTkbSAOkNV/+KdSzWb9Gbhy1re61gNX+Ocv9eSFAE/Wadn91bTtrFxXHC87W8+ZPosu7HDtJ11zgLTNm7cWNN2yPQDg+N/zt1n+vzmiU+Ztg+/z24n2LXLru/20NrwOWfOvdX0GenIaw2NQ0zbunVrTNtNNy42bU0HhWXA4rAppo927wiPe63NTMv/UwBwiaoeCuBYABeIyGEALgXwgKoeDOCB9HdCyD5K2WBX1U2q+kT68zYAGwBMAHAqgKXpYUsBhHPuCCH7BP16PysikwEcBeBRAONUdROQvCAAsN/TEULqTp+DXUSGArgbwEWqav/T+Nd+C0WkU0Q6u3a8nWWOhJAq0KdgF5FGJIF+q6r+NB3eLCJtqb0NwJaQr6p2qGq7qrY3D7H7TRNCBpaywS7JtvCNADao6nd7me4FMC/9eR6An1d/eoSQatGXrLfjAZwFYI2IrErHLgNwJYC7ROQ8AC8C+HRfLlhN6S3rdfwWT/2fnzj18+Bk2HnZdyUnk06cbLmSkS23ydlSGds227R1LLrOtJ13vl3XbsL4A4LjB01rM30kZ9e0e3DFx02bNkwybTPnhDPYRg635brGpqGmbc2a1aZt2U03mLaGKSebtp4hxvy7t5k+pQzycdlgV9XfwX7KfrTfVySE1AV+go6QSGCwExIJDHZCIoHBTkgkMNgJiYSaF5y0ssC80pGmLWOLJ/dqjvKWM87p1b3M2obKy16CY8rnw6/f6hSwfDUfzpQDgAOmfMS03bz4B6btHKOIZdt4W3qbcuBo05Z3suWaW1pM28gR4cVqahpk+qwx2jEBwI+W3WTa5EBbHuwaZMuD6Ao/NiX3+RGWDj1ZmXd2QiKBwU5IJDDYCYkEBjshkcBgJyQSGOyEREJNpTcBkJfw64vX98wqHpl3fCwJCvCzzTwZLWdkxHkZSFmlt5z7Ouzog0YRTvEKcBbC/dAA4FW1s+XGTJpj2m7oCPeWsyQ5AJg40e5hN2F8q2krFW0tsqk5LLGtXm0Xh7x12RLTlptg537tHGTPX3rCBSIBoFQy5FJHY3VqrZrwzk5IJDDYCYkEBjshkcBgJyQSGOyEREJtd+MFaGw0duO9nWlzB9/ekmzwdvczbsdbSQZ5tdsFqfN6WlIvWcdGna1YtdaqZNdc85SQUnGXadsMO3Fl7MQTguMdi/7D9Dnv/K+YtkkTJ5i2Rkd5WbtuXXD89luWBscBoDR+rmnb2WLPI9djJxuVnOQrhfXYOPdiq3WYl8hlmwgh7yYY7IREAoOdkEhgsBMSCQx2QiKBwU5IJJSV3kRkEoBlAA5AUv2sQ1WvFZErAHwRwGvpoZepql0oDEkiTKORTOLJYVZLJi9pJZ+3bd4rXMlr/2SY3JwEr9WUV2fOraHX/9ZW6kg/pZInCzmPi1PXbnNDOHFl1GS7pt3i679n2r78tUtM2/Yd203bTR3XB8dlwodNn50tTr04J6Gl6K2VW2UxjC3JeY+zI0f34ZoFAJeo6hMiMgzA4yJyf2q7RlX/vQ/nIITUmb70etsEYFP68zYR2QDA/mQBIWSfpF//s4vIZABHAXg0HbpQRFaLyBIRGVnluRFCqkifg11EhgK4G8BFqroVwCIA0wDMQnLnv9rwWyginSLSuWvH21WYMiEkC30KdhFpRBLot6rqTwFAVTeralGTbgaLAQSbfKtqh6q2q2r7oCEjqjVvQkg/KRvsktROuhHABlX9bq/x3q09Tgdgt9EghNSdvuzGHw/gLABrRGRVOnYZgDNFZBYSHeh5AOeXPZMA+Xz/WyhZspybvOZNw1NBnHpm5rVc2dD287LXHDXMlfqstkCevOZlZLlttLy/28gAe6PBzpQb0RZ8cwgA+M63L7fnAVtn3T38yOB40+Cppk+uaEuKBecx85fKqZdorH/RlWb7X4SuL7vxv0O4OZqrqRNC9i34CTpCIoHBTkgkMNgJiQQGOyGRwGAnJBJq3v4pZxVtdFshhSUIVxbyZAtP1/Jz2AwXLwstk1sZR88vi5OzVk5RTO+MYvk5mXLbB80wba1t4cKRAHDfvb8wbUd/7tzgeAPsllc9jrzm3h3dx8VeYyu3zcpsA8LymDcO8M5OSDQw2AmJBAY7IZHAYCckEhjshEQCg52QSKip9AYFYMga6sg/JeMlSVwJzZmGV2AxwymLGdQ6wJcOfVXOkfqsZcy2VG4BQ++k1hy9wovFrt2m7dBDDzFtz6y3ZbmiIfVpvsX08ZRIVxL1lGDvMctyrf6fjXd2QmKBwU5IJDDYCYkEBjshkcBgJyQSGOyEREJNpTeFolg0CiI6mpcYcp2o81rlVpW0UaeQn5UMJTIQr5nZ9DwzYcvVFPsvoQFlpEPLz1mrYsnubdacbzZtg4cMNm2FgpEx6clrJduY89bKecxKbmZk/x9rs9ebcyre2QmJBAY7IZHAYCckEhjshEQCg52QSCi7Gy8iLQCWA2hOj/+Jqn5LRFoB3AlgMpL2T2eo6l+8c6kqenp6grZczttZN87nZiw4p8u4U2/Ow2i5VAmaNXPFJFuLp0w77g7q7Lg7pd8gOS/Bw6nvViqEr+XsuKtXv9BZx5LXzitDIoybPGPaKkuE6QLwEVU9Ekl75pNE5FgAlwJ4QFUPBvBA+jshZB+lbLBrwvb018b0SwGcCmBpOr4UwGkDMkNCSFXoa3/2fNrBdQuA+1X1UQDjVHUTAKTfxw7cNAkhldKnYFfVoqrOAjARwGwRmdnXC4jIQhHpFJHO3Tu2Zp0nIaRC+rUbr6pvAXgIwEkANotIGwCk37cYPh2q2q6q7S1Dhlc4XUJIVsoGu4iMEZH3pD8PAvAxAH8EcC+Aeelh8wD8fKAmSQipnL4kwrQBWCoieSQvDnep6n+JyCMA7hKR8wC8CODT5U6kChQKYSkkixymuazyVDY/a4qZSoWVQav8EYis8lpmmdLCWaweR/LypNmGvG0rGFJvtzEOwEzWSvDq/zmynPN3FzMkPdmJMPa5yga7qq4GcFRg/A0AH+379Agh9YSfoCMkEhjshEQCg52QSGCwExIJDHZCIkGyZC5lvpjIawBeSH8dDeD1ml3chvN4J5zHO9nf5nGgqo4JGWoa7O+4sEinqrbX5eKcB+cR4Tz4Np6QSGCwExIJ9Qz2jjpeuzecxzvhPN7Ju2YedfufnRBSW/g2npBIqEuwi8hJIvKUiDwtInWrXSciz4vIGhFZJSKdNbzuEhHZIiJre421isj9IvLn9PvIOs3jChF5OV2TVSLyiRrMY5KI/FpENojIOhH5ejpe0zVx5lHTNRGRFhF5TESeTOfxz+l4ZeuhqjX9ApAH8AyAqQCaADwJ4LBazyOdy/MARtfhunMAHA1gba+xqwBcmv58KYB/q9M8rgDwDzVejzYAR6c/DwPwJwCH1XpNnHnUdE2Q5GAPTX9uBPAogGMrXY963NlnA3haVZ9V1W4AdyApXhkNqrocwJt7Dde8gKcxj5qjqptU9Yn0520ANgCYgBqviTOPmqIJVS/yWo9gnwDgpV6/b0QdFjRFAfxKRB4XkYV1msMe9qUCnheKyOr0bf6A/zvRGxGZjKR+Ql2Lmu41D6DGazIQRV7rEeyhch71kgSOV9WjAZwM4AIRmVOneexLLAIwDUmPgE0Arq7VhUVkKIC7AVykqnWrThqYR83XRCso8mpRj2DfCGBSr98nAnilDvOAqr6Sft8C4B4k/2LUiz4V8BxoVHVz+kQrAViMGq2JiDQiCbBbVfWn6XDN1yQ0j3qtSXrtfhd5tahHsK8AcLCITBGRJgCfRVK8sqaIyBARGbbnZwAnAljrew0o+0QBzz1PppTTUYM1kaTQ3Y0ANqjqd3uZarom1jxqvSYDVuS1VjuMe+02fgLJTuczAC6v0xymIlECngSwrpbzAHA7kreDPUje6ZwHYBSSNlp/Tr+31mkePwKwBsDq9MnVVoN5fBDJv3KrAaxKvz5R6zVx5lHTNQFwBICV6fXWAvindLyi9eAn6AiJBH6CjpBIYLATEgkMdkIigcFOSCQw2AmJBAb7foKIFNOMq7Ui8mMRGWwc93CGcz+cfp8sIp+rdK6VICIPiUjda769G2Gw7z/sUtVZqjoTQDeAL/U2po03oaof6OsJAz6TAWQOdhHpS6NQUicY7PsnvwVwkIjMTfOvb0PyoQ+IyPb0u4jId9J3AmtE5DPpuOkD4EoAH0rfQVwsIr8VkVl7LioivxeRI3pPRETmp+80/hNJUlGriPwsTRr5w57jRWS2iDwsIivT74ek44NE5I70+DsBDBrAdYsavhLvZ6R3z5MB/DIdmg1gpqo+t9ehf4ckceNIJDXHV4jI8jI+lyLJ2z4lvdabAOYDuEhEpgNo1qSr794cB+AIVX1TRK4DsFJVTxORjwBYls7jjwDmqGpBRD4G4NsA/h7AlwHsVNUj0heGJzIsC+kDvLPvPwxKUx47AbyI5DPcAPBYIGiB5KOft2uSwLEZwG8AHFPGZ29+DOCUNDnkXAA3G8fdr6p78uI/iOTjpVDVBwGMEpERAEYA+LEkVXGuAXB4evwcALekx69G8hFRMgDwzr7/sEuTlMf/I8nbwA7j+FAq8R4sn3egqjtF5H4kRRPOAGBtnPU+n5XC/C8Afq2qp6e54g/tZScDDO/s716WA/hMWgRhDJI76GNlfLYhKcfUmxsAfA/Ail5373LX/TyQ7A8AeF2TnPARAF5Oj5lvHD8TSRIIGQAY7O9e7kHylvhJAA8C+KaqvlrGZzWAQlro8GIAUNXHAWwFcFMfr3sFgHYRWY1kw29PSuZVAP5VRH6PpA7hHhYBGJoe/02Uf0EiGWHWG3ERkfFI3nLP0KR4A9lP4Z2dmIjI2UhqsF3OQN//4Z2dkEjgnZ2QSGCwExIJDHZCIoHBTkgkMNgJiQQGOyGR8L9wVruSUEF06wAAAABJRU5ErkJggg==\n",
      "text/plain": [
       "<Figure size 432x288 with 1 Axes>"
      ]
     },
     "metadata": {
      "needs_background": "light"
     },
     "output_type": "display_data"
    },
    {
     "data": {
      "image/png": "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\n",
      "text/plain": [
       "<Figure size 432x288 with 1 Axes>"
      ]
     },
     "metadata": {
      "needs_background": "light"
     },
     "output_type": "display_data"
    },
    {
     "data": {
      "image/png": "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\n",
      "text/plain": [
       "<Figure size 432x288 with 1 Axes>"
      ]
     },
     "metadata": {
      "needs_background": "light"
     },
     "output_type": "display_data"
    },
    {
     "data": {
      "image/png": "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\n",
      "text/plain": [
       "<Figure size 432x288 with 1 Axes>"
      ]
     },
     "metadata": {
      "needs_background": "light"
     },
     "output_type": "display_data"
    },
    {
     "data": {
      "image/png": "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\n",
      "text/plain": [
       "<Figure size 432x288 with 1 Axes>"
      ]
     },
     "metadata": {
      "needs_background": "light"
     },
     "output_type": "display_data"
    }
   ],
   "source": [
    "from PIL import Image, ImageOps\n",
    "\n",
    "x_subtest = []\n",
    "y_subtest = [12, 25, 17, 14,18]\n",
    "\n",
    "for i in range(1,6):\n",
    "    img = Image.open('./new_traffic_signs/img' + str(i) + '.jpg')\n",
    "    img = ImageOps.fit(img, (32,32), Image.ANTIALIAS)\n",
    "    x_subtest.append(np.array(img))\n",
    "    plt.figure()\n",
    "    plt.imshow(img)\n",
    "    plt.xlabel(trafficSign[y_subtest[i-1]])"
   ]
  },
  {
   "cell_type": "markdown",
   "metadata": {},
   "source": [
    "### Predict the Sign Type for Each Image"
   ]
  },
  {
   "cell_type": "code",
   "execution_count": null,
   "metadata": {},
   "outputs": [],
   "source": [
    "### Run the predictions here and use the model to output the prediction for each image.\n",
    "### Make sure to pre-process the images with the same pre-processing pipeline used earlier.\n",
    "### Feel free to use as many code cells as needed."
   ]
  },
  {
   "cell_type": "code",
   "execution_count": 172,
   "metadata": {},
   "outputs": [
    {
     "name": "stdout",
     "output_type": "stream",
     "text": [
      "INFO:tensorflow:Restoring parameters from ./lenet3\n"
     ]
    }
   ],
   "source": [
    "prob = tf.nn.softmax(logits)\n",
    "\n",
    "with tf.Session() as sess:\n",
    "    saver.restore(sess, './lenet3')\n",
    "    probability = sess.run(prob, feed_dict={x:x_subtest})\n",
    "    accuracy = evaluate(x_subtest, y_subtest)\n",
    "    prediction = np.argmax(probability, axis = 1)"
   ]
  },
  {
   "cell_type": "code",
   "execution_count": 173,
   "metadata": {},
   "outputs": [
    {
     "data": {
      "image/png": "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\n",
      "text/plain": [
       "<Figure size 432x288 with 1 Axes>"
      ]
     },
     "metadata": {
      "needs_background": "light"
     },
     "output_type": "display_data"
    },
    {
     "data": {
      "image/png": "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\n",
      "text/plain": [
       "<Figure size 432x288 with 1 Axes>"
      ]
     },
     "metadata": {
      "needs_background": "light"
     },
     "output_type": "display_data"
    },
    {
     "data": {
      "image/png": "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\n",
      "text/plain": [
       "<Figure size 432x288 with 1 Axes>"
      ]
     },
     "metadata": {
      "needs_background": "light"
     },
     "output_type": "display_data"
    },
    {
     "data": {
      "image/png": "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\n",
      "text/plain": [
       "<Figure size 432x288 with 1 Axes>"
      ]
     },
     "metadata": {
      "needs_background": "light"
     },
     "output_type": "display_data"
    },
    {
     "data": {
      "image/png": "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\n",
      "text/plain": [
       "<Figure size 432x288 with 1 Axes>"
      ]
     },
     "metadata": {
      "needs_background": "light"
     },
     "output_type": "display_data"
    }
   ],
   "source": [
    "for i in range(5):\n",
    "    plt.figure()\n",
    "    plt.xlabel(\"Predict: \" + trafficSign[prediction[i]] + '  ,  ' + \"Actual: \" + trafficSign[y_subtest[i]])\n",
    "    plt.imshow(x_subtest[i])\n",
    "#     print(\"Predicting: \", trafficSign[prediction[i]])\n",
    "#     print(\"Actual: \", trafficSign[y_subtest[i]])"
   ]
  },
  {
   "cell_type": "markdown",
   "metadata": {},
   "source": [
    "### Analyze Performance"
   ]
  },
  {
   "cell_type": "code",
   "execution_count": 174,
   "metadata": {},
   "outputs": [
    {
     "name": "stdout",
     "output_type": "stream",
     "text": [
      "New Image Accuracy = 0.600\n"
     ]
    }
   ],
   "source": [
    "### Calculate the accuracy for these 5 new images. \n",
    "### For example, if the model predicted 1 out of 5 signs correctly, it's 20% accurate on these new images.\n",
    "print(\"New Image Accuracy = {:.3f}\".format(accuracy))"
   ]
  },
  {
   "cell_type": "code",
   "execution_count": 175,
   "metadata": {},
   "outputs": [
    {
     "name": "stdout",
     "output_type": "stream",
     "text": [
      "INFO:tensorflow:Restoring parameters from ./lenet3\n",
      "Test Accuracy = 0.930\n"
     ]
    }
   ],
   "source": [
    "with tf.Session() as sess:\n",
    "    saver.restore(sess, './lenet3')\n",
    "    accuracy = evaluate(X_test, y_test)\n",
    "    print(\"Test Accuracy = {:.3f}\".format(accuracy))"
   ]
  },
  {
   "cell_type": "markdown",
   "metadata": {},
   "source": [
    "### Output Top 5 Softmax Probabilities For Each Image Found on the Web"
   ]
  },
  {
   "cell_type": "markdown",
   "metadata": {},
   "source": [
    "For each of the new images, print out the model's softmax probabilities to show the **certainty** of the model's predictions (limit the output to the top 5 probabilities for each image). [`tf.nn.top_k`](https://www.tensorflow.org/versions/r0.12/api_docs/python/nn.html#top_k) could prove helpful here. \n",
    "\n",
    "The example below demonstrates how tf.nn.top_k can be used to find the top k predictions for each image.\n",
    "\n",
    "`tf.nn.top_k` will return the values and indices (class ids) of the top k predictions. So if k=3, for each sign, it'll return the 3 largest probabilities (out of a possible 43) and the correspoding class ids.\n",
    "\n",
    "Take this numpy array as an example. The values in the array represent predictions. The array contains softmax probabilities for five candidate images with six possible classes. `tf.nn.top_k` is used to choose the three classes with the highest probability:\n",
    "\n",
    "```\n",
    "# (5, 6) array\n",
    "a = np.array([[ 0.24879643,  0.07032244,  0.12641572,  0.34763842,  0.07893497,\n",
    "         0.12789202],\n",
    "       [ 0.28086119,  0.27569815,  0.08594638,  0.0178669 ,  0.18063401,\n",
    "         0.15899337],\n",
    "       [ 0.26076848,  0.23664738,  0.08020603,  0.07001922,  0.1134371 ,\n",
    "         0.23892179],\n",
    "       [ 0.11943333,  0.29198961,  0.02605103,  0.26234032,  0.1351348 ,\n",
    "         0.16505091],\n",
    "       [ 0.09561176,  0.34396535,  0.0643941 ,  0.16240774,  0.24206137,\n",
    "         0.09155967]])\n",
    "```\n",
    "\n",
    "Running it through `sess.run(tf.nn.top_k(tf.constant(a), k=3))` produces:\n",
    "\n",
    "```\n",
    "TopKV2(values=array([[ 0.34763842,  0.24879643,  0.12789202],\n",
    "       [ 0.28086119,  0.27569815,  0.18063401],\n",
    "       [ 0.26076848,  0.23892179,  0.23664738],\n",
    "       [ 0.29198961,  0.26234032,  0.16505091],\n",
    "       [ 0.34396535,  0.24206137,  0.16240774]]), indices=array([[3, 0, 5],\n",
    "       [0, 1, 4],\n",
    "       [0, 5, 1],\n",
    "       [1, 3, 5],\n",
    "       [1, 4, 3]], dtype=int32))\n",
    "```\n",
    "\n",
    "Looking just at the first row we get `[ 0.34763842,  0.24879643,  0.12789202]`, you can confirm these are the 3 largest probabilities in `a`. You'll also notice `[3, 0, 5]` are the corresponding indices."
   ]
  },
  {
   "cell_type": "code",
   "execution_count": 176,
   "metadata": {},
   "outputs": [
    {
     "name": "stdout",
     "output_type": "stream",
     "text": [
      "TopKV2(values=array([[1.0000000e+00, 2.5976954e-14, 4.9916240e-15, 4.4370351e-15,\n",
      "        2.4629116e-15],\n",
      "       [9.9997175e-01, 2.8299202e-05, 1.2825329e-11, 1.9543082e-12,\n",
      "        4.2260579e-18],\n",
      "       [1.0000000e+00, 2.9336558e-09, 5.0077567e-16, 2.3256958e-18,\n",
      "        4.0300149e-19],\n",
      "       [4.5213187e-01, 2.8509289e-01, 2.2159734e-01, 4.1172139e-02,\n",
      "        5.5823025e-06],\n",
      "       [9.9918944e-01, 8.1051240e-04, 7.6702533e-11, 2.2636396e-12,\n",
      "        9.1717161e-13]], dtype=float32), indices=array([[12, 20,  1, 26, 35],\n",
      "       [29, 25, 22, 24, 14],\n",
      "       [17, 14,  1, 22, 26],\n",
      "       [14,  5, 25,  1, 13],\n",
      "       [ 9, 41, 12, 10, 13]]))\n"
     ]
    }
   ],
   "source": [
    "### Print out the top five softmax probabilities for the predictions on the German traffic sign images found on the web. \n",
    "### Feel free to use as many code cells as needed.\n",
    "with tf.Session() as sess:\n",
    "    print(sess.run(tf.nn.top_k(tf.constant(probability), k = 5)))"
   ]
  },
  {
   "cell_type": "markdown",
   "metadata": {},
   "source": [
    "### Project Writeup\n",
    "\n",
    "Once you have completed the code implementation, document your results in a project writeup using this [template](https://github.com/udacity/CarND-Traffic-Sign-Classifier-Project/blob/master/writeup_template.md) as a guide. The writeup can be in a markdown or pdf file. "
   ]
  },
  {
   "cell_type": "markdown",
   "metadata": {},
   "source": [
    "> **Note**: Once you have completed all of the code implementations and successfully answered each question above, you may finalize your work by exporting the iPython Notebook as an HTML document. You can do this by using the menu above and navigating to  \\n\",\n",
    "    \"**File -> Download as -> HTML (.html)**. Include the finished document along with this notebook as your submission."
   ]
  },
  {
   "cell_type": "markdown",
   "metadata": {},
   "source": [
    "---\n",
    "\n",
    "## Step 4 (Optional): Visualize the Neural Network's State with Test Images\n",
    "\n",
    " This Section is not required to complete but acts as an additional excersise for understaning the output of a neural network's weights. While neural networks can be a great learning device they are often referred to as a black box. We can understand what the weights of a neural network look like better by plotting their feature maps. After successfully training your neural network you can see what it's feature maps look like by plotting the output of the network's weight layers in response to a test stimuli image. From these plotted feature maps, it's possible to see what characteristics of an image the network finds interesting. For a sign, maybe the inner network feature maps react with high activation to the sign's boundary outline or to the contrast in the sign's painted symbol.\n",
    "\n",
    " Provided for you below is the function code that allows you to get the visualization output of any tensorflow weight layer you want. The inputs to the function should be a stimuli image, one used during training or a new one you provided, and then the tensorflow variable name that represents the layer's state during the training process, for instance if you wanted to see what the [LeNet lab's](https://classroom.udacity.com/nanodegrees/nd013/parts/fbf77062-5703-404e-b60c-95b78b2f3f9e/modules/6df7ae49-c61c-4bb2-a23e-6527e69209ec/lessons/601ae704-1035-4287-8b11-e2c2716217ad/concepts/d4aca031-508f-4e0b-b493-e7b706120f81) feature maps looked like for it's second convolutional layer you could enter conv2 as the tf_activation variable.\n",
    "\n",
    "For an example of what feature map outputs look like, check out NVIDIA's results in their paper [End-to-End Deep Learning for Self-Driving Cars](https://devblogs.nvidia.com/parallelforall/deep-learning-self-driving-cars/) in the section Visualization of internal CNN State. NVIDIA was able to show that their network's inner weights had high activations to road boundary lines by comparing feature maps from an image with a clear path to one without. Try experimenting with a similar test to show that your trained network's weights are looking for interesting features, whether it's looking at differences in feature maps from images with or without a sign, or even what feature maps look like in a trained network vs a completely untrained one on the same sign image.\n",
    "\n",
    "<figure>\n",
    " <img src=\"visualize_cnn.png\" width=\"380\" alt=\"Combined Image\" />\n",
    " <figcaption>\n",
    " <p></p> \n",
    " <p style=\"text-align: center;\"> Your output should look something like this (above)</p> \n",
    " </figcaption>\n",
    "</figure>\n",
    " <p></p> \n"
   ]
  },
  {
   "cell_type": "code",
   "execution_count": null,
   "metadata": {},
   "outputs": [],
   "source": [
    "### Visualize your network's feature maps here.\n",
    "### Feel free to use as many code cells as needed.\n",
    "\n",
    "# image_input: the test image being fed into the network to produce the feature maps\n",
    "# tf_activation: should be a tf variable name used during your training procedure that represents the calculated state of a specific weight layer\n",
    "# activation_min/max: can be used to view the activation contrast in more detail, by default matplot sets min and max to the actual min and max values of the output\n",
    "# plt_num: used to plot out multiple different weight feature map sets on the same block, just extend the plt number for each new feature map entry\n",
    "\n",
    "def outputFeatureMap(image_input, tf_activation, activation_min=-1, activation_max=-1 ,plt_num=1):\n",
    "    # Here make sure to preprocess your image_input in a way your network expects\n",
    "    # with size, normalization, ect if needed\n",
    "    # image_input =\n",
    "    # Note: x should be the same name as your network's tensorflow data placeholder variable\n",
    "    # If you get an error tf_activation is not defined it may be having trouble accessing the variable from inside a function\n",
    "    activation = tf_activation.eval(session=sess,feed_dict={x : image_input})\n",
    "    featuremaps = activation.shape[3]\n",
    "    plt.figure(plt_num, figsize=(15,15))\n",
    "    for featuremap in range(featuremaps):\n",
    "        plt.subplot(6,8, featuremap+1) # sets the number of feature maps to show on each row and column\n",
    "        plt.title('FeatureMap ' + str(featuremap)) # displays the feature map number\n",
    "        if activation_min != -1 & activation_max != -1:\n",
    "            plt.imshow(activation[0,:,:, featuremap], interpolation=\"nearest\", vmin =activation_min, vmax=activation_max, cmap=\"gray\")\n",
    "        elif activation_max != -1:\n",
    "            plt.imshow(activation[0,:,:, featuremap], interpolation=\"nearest\", vmax=activation_max, cmap=\"gray\")\n",
    "        elif activation_min !=-1:\n",
    "            plt.imshow(activation[0,:,:, featuremap], interpolation=\"nearest\", vmin=activation_min, cmap=\"gray\")\n",
    "        else:\n",
    "            plt.imshow(activation[0,:,:, featuremap], interpolation=\"nearest\", cmap=\"gray\")"
   ]
  }
 ],
 "metadata": {
  "anaconda-cloud": {},
  "kernelspec": {
   "display_name": "Python 3",
   "language": "python",
   "name": "python3"
  },
  "language_info": {
   "codemirror_mode": {
    "name": "ipython",
    "version": 3
   },
   "file_extension": ".py",
   "mimetype": "text/x-python",
   "name": "python",
   "nbconvert_exporter": "python",
   "pygments_lexer": "ipython3",
   "version": "3.7.7"
  }
 },
 "nbformat": 4,
 "nbformat_minor": 1
}
